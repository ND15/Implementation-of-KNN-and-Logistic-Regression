{
  "nbformat": 4,
  "nbformat_minor": 0,
  "metadata": {
    "colab": {
      "name": "KNNRegression_Scratch.ipynb",
      "provenance": [],
      "collapsed_sections": []
    },
    "kernelspec": {
      "name": "python3",
      "display_name": "Python 3"
    },
    "language_info": {
      "name": "python"
    }
  },
  "cells": [
    {
      "cell_type": "code",
      "metadata": {
        "id": "0luPeyLMs4R1"
      },
      "source": [
        "import numpy as np\n",
        "from collections import Counter\n",
        "import pandas as pd\n",
        "import matplotlib.pyplot as plt"
      ],
      "execution_count": 301,
      "outputs": []
    },
    {
      "cell_type": "code",
      "metadata": {
        "id": "wgZSMujztEa1"
      },
      "source": [
        "from sklearn import datasets\n",
        "features_set, prediction_set = datasets.make_friedman1(n_samples=100, n_features=5)"
      ],
      "execution_count": 302,
      "outputs": []
    },
    {
      "cell_type": "code",
      "metadata": {
        "colab": {
          "base_uri": "https://localhost:8080/"
        },
        "id": "HOiPXgR8u1zT",
        "outputId": "6271d817-8219-4f64-d967-d6d9de73f7ac"
      },
      "source": [
        "features_set[:5], prediction_set[:5]"
      ],
      "execution_count": 316,
      "outputs": [
        {
          "output_type": "execute_result",
          "data": {
            "text/plain": [
              "(array([[0.45712485, 0.23960421, 0.51013998, 0.34475269, 0.15799833],\n",
              "        [0.20494553, 0.59044427, 0.34259411, 0.83645975, 0.60744485],\n",
              "        [0.99673362, 0.8215444 , 0.76134545, 0.8158116 , 0.78242937],\n",
              "        [0.54239744, 0.1198728 , 0.76636525, 0.47518037, 0.83637972],\n",
              "        [0.93328895, 0.99943568, 0.24949841, 0.70378605, 0.1195731 ]]),\n",
              " array([ 7.6130294 , 15.60805132, 18.82473956, 12.3811594 , 10.98740875]))"
            ]
          },
          "metadata": {
            "tags": []
          },
          "execution_count": 316
        }
      ]
    },
    {
      "cell_type": "code",
      "metadata": {
        "id": "TtS4RWVPwps6"
      },
      "source": [
        "def euclidean_distance(v, w):\n",
        "  return np.sqrt(\n",
        "                  sum(\n",
        "                      pow(v_i-w_i,2) for v_i, w_i in zip(v,w)\n",
        "                      )\n",
        "                  )\n",
        "  \n",
        "\n",
        "def manhattan_distance(v, w):\n",
        "  return sum(\n",
        "            abs(v_i - w_i) for v_i, w_i in zip(v,w)\n",
        "            )"
      ],
      "execution_count": 304,
      "outputs": []
    },
    {
      "cell_type": "code",
      "metadata": {
        "id": "XbLrL960tt3c"
      },
      "source": [
        "class knn_regression:\n",
        "  \"\"\"Implementation of KNN Regression class\"\"\"\n",
        "\n",
        "  def __init__(self, k_val=1, distance_metric=None):\n",
        "    self.k_val = k_val\n",
        "    self.distance_metric = distance_metric\n",
        "    self.combined = None\n",
        "\n",
        "  def average(self, v):\n",
        "    return np.sum(v) / len(v)\n",
        "\n",
        "  # fitting the data into a single a set\n",
        "  def fit(self, X, y):\n",
        "    P = np.concatenate((X.reshape(len(X), X.shape[1]), y.reshape(len(y), 1)), 1)\n",
        "    self.combined = P\n",
        "\n",
        "  # predicting the value for the test set\n",
        "  def predict(self, X, y):\n",
        "    pred = []\n",
        "    for i in X:\n",
        "      if (self.distance_metric == 'euclidean'):\n",
        "        sort_val = sorted(self.combined, key=lambda point: euclidean_distance(point[:-1], i))\n",
        "      \n",
        "      else:\n",
        "        sort_val = sorted(self.combined, key=lambda point: manhattan_distance(point[:-1], i))\n",
        "\n",
        "      k_nearest_neighbors = [point[-1] for point in sort_val[:self.k_val]]\n",
        "\n",
        "      pred.append(self.average(k_nearest_neighbors))\n",
        "\n",
        "    return pred"
      ],
      "execution_count": 305,
      "outputs": []
    },
    {
      "cell_type": "code",
      "metadata": {
        "id": "aQrMdf0yT0qs"
      },
      "source": [
        "from sklearn.model_selection import train_test_split\n",
        "X_train, X_test, y_train, y_test = train_test_split(features_set, prediction_set, test_size=0.2, random_state=42)"
      ],
      "execution_count": 306,
      "outputs": []
    },
    {
      "cell_type": "code",
      "metadata": {
        "id": "gObqMxetUls7"
      },
      "source": [
        "knn_reg = knn_regression(k_val=6, distance_metric='euclidean')\n",
        "knn_reg.fit(X_train, y_train)\n",
        "\n",
        "pred = np.array(knn_reg.predict(X_test, y_test))"
      ],
      "execution_count": 307,
      "outputs": []
    },
    {
      "cell_type": "code",
      "metadata": {
        "colab": {
          "base_uri": "https://localhost:8080/"
        },
        "id": "L4234loaU8xr",
        "outputId": "42e70ea8-59e7-41a5-ca00-6d3621a2a8a9"
      },
      "source": [
        "np.concatenate((pred.reshape(len(pred), 1), y_test.reshape(len(y_test), 1)), 1)"
      ],
      "execution_count": 308,
      "outputs": [
        {
          "output_type": "execute_result",
          "data": {
            "text/plain": [
              "array([[ 8.79370824,  5.83299741],\n",
              "       [12.73105449,  9.17070627],\n",
              "       [15.00794069, 19.04609724],\n",
              "       [14.56937148, 12.07022538],\n",
              "       [12.51417613, 11.65442323],\n",
              "       [20.92221299, 20.75453836],\n",
              "       [17.83970774, 13.20348722],\n",
              "       [12.38478112, 14.04735742],\n",
              "       [19.8577702 , 19.43612453],\n",
              "       [ 9.86569712,  7.6130294 ],\n",
              "       [17.47271444, 23.49642705],\n",
              "       [12.87899661, 12.95365147],\n",
              "       [15.70243611, 16.20929013],\n",
              "       [18.94316046, 19.0832695 ],\n",
              "       [10.02710329,  7.60963189],\n",
              "       [15.17905888, 10.98740875],\n",
              "       [12.65325104, 13.10978469],\n",
              "       [16.39547089, 17.705057  ],\n",
              "       [16.52709759, 16.14361234],\n",
              "       [10.01819796,  6.3255843 ]])"
            ]
          },
          "metadata": {
            "tags": []
          },
          "execution_count": 308
        }
      ]
    },
    {
      "cell_type": "code",
      "metadata": {
        "colab": {
          "base_uri": "https://localhost:8080/"
        },
        "id": "gDk0HFasWPzi",
        "outputId": "2f7b8ba9-66e8-4a09-fe31-ce107d55340e"
      },
      "source": [
        "def root_mean_squared_error(v, w):\n",
        "  rmse = (1 / len(v)) * sum( pow((v_i - w_i), 2) for v_i, w_i in zip(v,w))\n",
        "  return np.sqrt(rmse)\n",
        "\n",
        "rmse = root_mean_squared_error(pred, y_test)\n",
        "print(rmse)"
      ],
      "execution_count": 309,
      "outputs": [
        {
          "output_type": "stream",
          "text": [
            "2.738246042130682\n"
          ],
          "name": "stdout"
        }
      ]
    },
    {
      "cell_type": "code",
      "metadata": {
        "id": "QHrEG1oPYwlp"
      },
      "source": [
        "# calculating rmse for different values of k\n",
        "rmses = []\n",
        "\n",
        "for i in range(1, 20):\n",
        "  knn_reg2 = knn_regression(k_val=i, distance_metric='euclidean')\n",
        "  knn_reg2.fit(X_train, y_train)\n",
        "\n",
        "  pred = np.array(knn_reg2.predict(X_test, y_test))\n",
        "  rmses.append([root_mean_squared_error(pred, y_test), i])"
      ],
      "execution_count": 310,
      "outputs": []
    },
    {
      "cell_type": "code",
      "metadata": {
        "colab": {
          "base_uri": "https://localhost:8080/"
        },
        "id": "T8L4kU-Wiy91",
        "outputId": "d7aeee3d-a39a-4d5e-e92d-79fd870c80e4"
      },
      "source": [
        "rmses"
      ],
      "execution_count": 311,
      "outputs": [
        {
          "output_type": "execute_result",
          "data": {
            "text/plain": [
              "[[3.7263741266161503, 1],\n",
              " [3.213183313248668, 2],\n",
              " [3.091447048935396, 3],\n",
              " [2.8642857167022124, 4],\n",
              " [2.7923998970420754, 5],\n",
              " [2.738246042130682, 6],\n",
              " [2.678287891621569, 7],\n",
              " [2.791591134793272, 8],\n",
              " [2.9293894243982876, 9],\n",
              " [2.9769331175556553, 10],\n",
              " [2.95009361990289, 11],\n",
              " [2.990059172073246, 12],\n",
              " [3.024059170869205, 13],\n",
              " [3.098481147131812, 14],\n",
              " [3.1775097424284153, 15],\n",
              " [3.238707203395234, 16],\n",
              " [3.201875563495806, 17],\n",
              " [3.319073898924869, 18],\n",
              " [3.3227604792017695, 19]]"
            ]
          },
          "metadata": {
            "tags": []
          },
          "execution_count": 311
        }
      ]
    },
    {
      "cell_type": "code",
      "metadata": {
        "colab": {
          "base_uri": "https://localhost:8080/"
        },
        "id": "W62FUGHtfFKX",
        "outputId": "f26853ef-ff28-4310-d576-78b100c28f2b"
      },
      "source": [
        "# taking k=7\n",
        "\n",
        "knn_reg2 = knn_regression(k_val=7, distance_metric='euclidean')\n",
        "knn_reg2.fit(X_train, y_train)\n",
        "\n",
        "pred = np.array(knn_reg2.predict(X_test, y_test))\n",
        "print(root_mean_squared_error(pred, y_test))"
      ],
      "execution_count": 314,
      "outputs": [
        {
          "output_type": "stream",
          "text": [
            "2.678287891621569\n"
          ],
          "name": "stdout"
        }
      ]
    },
    {
      "cell_type": "code",
      "metadata": {
        "colab": {
          "base_uri": "https://localhost:8080/"
        },
        "id": "UKYz3Xw1ftRX",
        "outputId": "a8d95c54-65e1-47ec-d462-db4c7c3c4ca1"
      },
      "source": [
        "np.concatenate((pred.reshape(len(pred), 1), y_test.reshape(len(y_test), 1)), 1)"
      ],
      "execution_count": 315,
      "outputs": [
        {
          "output_type": "execute_result",
          "data": {
            "text/plain": [
              "array([[ 8.5136942 ,  5.83299741],\n",
              "       [12.44623147,  9.17070627],\n",
              "       [14.97511133, 19.04609724],\n",
              "       [14.63301066, 12.07022538],\n",
              "       [12.74813084, 11.65442323],\n",
              "       [20.78063112, 20.75453836],\n",
              "       [16.79011743, 13.20348722],\n",
              "       [12.89564536, 14.04735742],\n",
              "       [19.96043766, 19.43612453],\n",
              "       [ 9.46991868,  7.6130294 ],\n",
              "       [17.91610415, 23.49642705],\n",
              "       [13.06083411, 12.95365147],\n",
              "       [16.3748681 , 16.20929013],\n",
              "       [18.93780597, 19.0832695 ],\n",
              "       [10.29199305,  7.60963189],\n",
              "       [15.15559986, 10.98740875],\n",
              "       [13.75309795, 13.10978469],\n",
              "       [15.06686762, 17.705057  ],\n",
              "       [16.31106161, 16.14361234],\n",
              "       [10.81194907,  6.3255843 ]])"
            ]
          },
          "metadata": {
            "tags": []
          },
          "execution_count": 315
        }
      ]
    }
  ]
}