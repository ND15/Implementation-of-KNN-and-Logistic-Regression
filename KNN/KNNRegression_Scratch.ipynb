{
  "nbformat": 4,
  "nbformat_minor": 0,
  "metadata": {
    "colab": {
      "name": "KNNRegression_Scratch.ipynb",
      "provenance": [],
      "collapsed_sections": []
    },
    "kernelspec": {
      "name": "python3",
      "display_name": "Python 3"
    },
    "language_info": {
      "name": "python"
    }
  },
  "cells": [
    {
      "cell_type": "code",
      "metadata": {
        "id": "0luPeyLMs4R1"
      },
      "source": [
        "import numpy as np\n",
        "from collections import Counter\n",
        "import pandas as pd\n",
        "import matplotlib.pyplot as plt"
      ],
      "execution_count": 317,
      "outputs": []
    },
    {
      "cell_type": "code",
      "metadata": {
        "id": "wgZSMujztEa1"
      },
      "source": [
        "from sklearn import datasets\n",
        "features_set, prediction_set = datasets.make_friedman1(n_samples=100, n_features=5)"
      ],
      "execution_count": 318,
      "outputs": []
    },
    {
      "cell_type": "code",
      "metadata": {
        "colab": {
          "base_uri": "https://localhost:8080/"
        },
        "id": "HOiPXgR8u1zT",
        "outputId": "4ba084cb-5ee9-4b43-e205-891621be7153"
      },
      "source": [
        "features_set[:5], prediction_set[:5]"
      ],
      "execution_count": 319,
      "outputs": [
        {
          "output_type": "execute_result",
          "data": {
            "text/plain": [
              "(array([[0.31058228, 0.53365385, 0.96884976, 0.27499495, 0.78731975],\n",
              "        [0.57212681, 0.11233317, 0.15461977, 0.25807363, 0.62033927],\n",
              "        [0.14383046, 0.51450369, 0.41091861, 0.88040051, 0.31837716],\n",
              "        [0.85956871, 0.12141997, 0.89319138, 0.47194862, 0.04879158],\n",
              "        [0.41750939, 0.27599129, 0.46632992, 0.18937885, 0.89147419]]),\n",
              " array([16.05781055, 10.0735569 , 12.85853495, 11.27584068,  9.91530892]))"
            ]
          },
          "metadata": {
            "tags": []
          },
          "execution_count": 319
        }
      ]
    },
    {
      "cell_type": "code",
      "metadata": {
        "id": "TtS4RWVPwps6"
      },
      "source": [
        "def euclidean_distance(v, w):\n",
        "  return np.sqrt(\n",
        "                  sum(\n",
        "                      pow(v_i-w_i,2) for v_i, w_i in zip(v,w)\n",
        "                      )\n",
        "                  )\n",
        "  \n",
        "\n",
        "def manhattan_distance(v, w):\n",
        "  return sum(\n",
        "            abs(v_i - w_i) for v_i, w_i in zip(v,w)\n",
        "            )"
      ],
      "execution_count": 320,
      "outputs": []
    },
    {
      "cell_type": "code",
      "metadata": {
        "id": "XbLrL960tt3c"
      },
      "source": [
        "class knn_regression:\n",
        "  \"\"\"Implementation of KNN Regression class\"\"\"\n",
        "\n",
        "  def __init__(self, k_val=1, distance_metric=None):\n",
        "    self.k_val = k_val\n",
        "    self.distance_metric = distance_metric\n",
        "    self.combined = None\n",
        "\n",
        "  def average(self, v):\n",
        "    return np.sum(v) / len(v)\n",
        "\n",
        "  # fitting the data into a single a set\n",
        "  def fit(self, X, y):\n",
        "    P = np.concatenate((X.reshape(len(X), X.shape[1]), y.reshape(len(y), 1)), 1)\n",
        "    self.combined = P\n",
        "\n",
        "  # predicting the value for the test set\n",
        "  def predict(self, X, y):\n",
        "    pred = []\n",
        "    for i in X:\n",
        "      if (self.distance_metric == 'euclidean'):\n",
        "        sort_val = sorted(self.combined, key=lambda point: euclidean_distance(point[:-1], i))\n",
        "      \n",
        "      else:\n",
        "        sort_val = sorted(self.combined, key=lambda point: manhattan_distance(point[:-1], i))\n",
        "\n",
        "      k_nearest_neighbors = [point[-1] for point in sort_val[:self.k_val]]\n",
        "\n",
        "      pred.append(self.average(k_nearest_neighbors))\n",
        "\n",
        "    return pred"
      ],
      "execution_count": 321,
      "outputs": []
    },
    {
      "cell_type": "code",
      "metadata": {
        "id": "aQrMdf0yT0qs"
      },
      "source": [
        "from sklearn.model_selection import train_test_split\n",
        "X_train, X_test, y_train, y_test = train_test_split(features_set, prediction_set, test_size=0.2, random_state=42)"
      ],
      "execution_count": 322,
      "outputs": []
    },
    {
      "cell_type": "code",
      "metadata": {
        "id": "gObqMxetUls7"
      },
      "source": [
        "knn_reg = knn_regression(k_val=6, distance_metric='euclidean')\n",
        "knn_reg.fit(X_train, y_train)\n",
        "\n",
        "pred = np.array(knn_reg.predict(X_test, y_test))"
      ],
      "execution_count": 323,
      "outputs": []
    },
    {
      "cell_type": "code",
      "metadata": {
        "colab": {
          "base_uri": "https://localhost:8080/"
        },
        "id": "L4234loaU8xr",
        "outputId": "ce252a3b-cd2c-4f53-eab6-2e09843cd7a6"
      },
      "source": [
        "np.concatenate((pred.reshape(len(pred), 1), y_test.reshape(len(y_test), 1)), 1)"
      ],
      "execution_count": 324,
      "outputs": [
        {
          "output_type": "execute_result",
          "data": {
            "text/plain": [
              "array([[18.80443999, 20.74206627],\n",
              "       [12.17067732, 13.81723939],\n",
              "       [16.78664773, 17.81961886],\n",
              "       [17.41326548, 17.48249302],\n",
              "       [21.17906039, 20.50016097],\n",
              "       [14.1029645 , 16.10013472],\n",
              "       [12.96752482, 11.51405781],\n",
              "       [ 8.22259185,  6.02354253],\n",
              "       [13.17264055, 12.6055153 ],\n",
              "       [15.14630054, 16.05781055],\n",
              "       [18.15771872, 21.87288581],\n",
              "       [10.08038557,  5.83388314],\n",
              "       [ 9.99541499,  6.53241291],\n",
              "       [14.45327519, 16.73993945],\n",
              "       [17.94665643, 23.5974251 ],\n",
              "       [12.34452588,  9.91530892],\n",
              "       [19.34865246, 20.81787222],\n",
              "       [17.22455167, 21.19158942],\n",
              "       [11.02522055, 12.30472449],\n",
              "       [19.04399534, 16.59545421]])"
            ]
          },
          "metadata": {
            "tags": []
          },
          "execution_count": 324
        }
      ]
    },
    {
      "cell_type": "code",
      "metadata": {
        "colab": {
          "base_uri": "https://localhost:8080/"
        },
        "id": "gDk0HFasWPzi",
        "outputId": "df224964-6728-4c1a-8ecf-2b89083c05bd"
      },
      "source": [
        "def root_mean_squared_error(v, w):\n",
        "  rmse = (1 / len(v)) * sum( pow((v_i - w_i), 2) for v_i, w_i in zip(v,w))\n",
        "  return np.sqrt(rmse)\n",
        "\n",
        "rmse = root_mean_squared_error(pred, y_test)\n",
        "print(rmse)"
      ],
      "execution_count": 325,
      "outputs": [
        {
          "output_type": "stream",
          "text": [
            "2.573956780964302\n"
          ],
          "name": "stdout"
        }
      ]
    },
    {
      "cell_type": "code",
      "metadata": {
        "id": "QHrEG1oPYwlp"
      },
      "source": [
        "# calculating rmse for different values of k\n",
        "rmses = []\n",
        "\n",
        "for i in range(1, 20):\n",
        "  knn_reg2 = knn_regression(k_val=i, distance_metric='euclidean')\n",
        "  knn_reg2.fit(X_train, y_train)\n",
        "\n",
        "  pred = np.array(knn_reg2.predict(X_test, y_test))\n",
        "  rmses.append([root_mean_squared_error(pred, y_test), i])"
      ],
      "execution_count": 326,
      "outputs": []
    },
    {
      "cell_type": "code",
      "metadata": {
        "colab": {
          "base_uri": "https://localhost:8080/"
        },
        "id": "T8L4kU-Wiy91",
        "outputId": "dd411478-ebd8-45b9-9d58-0bde6e9d4a8a"
      },
      "source": [
        "rmses"
      ],
      "execution_count": 327,
      "outputs": [
        {
          "output_type": "execute_result",
          "data": {
            "text/plain": [
              "[[2.9952397217404076, 1],\n",
              " [2.4400156248391847, 2],\n",
              " [2.6762905080560886, 3],\n",
              " [2.617799017697007, 4],\n",
              " [2.4437655864343766, 5],\n",
              " [2.573956780964302, 6],\n",
              " [2.5836381495198135, 7],\n",
              " [2.604259803767955, 8],\n",
              " [2.8123854073521906, 9],\n",
              " [2.8041221229067084, 10],\n",
              " [2.68395742940159, 11],\n",
              " [2.818215117477416, 12],\n",
              " [2.8967167025099845, 13],\n",
              " [2.9477094189251973, 14],\n",
              " [3.034969382767189, 15],\n",
              " [3.0525522187510528, 16],\n",
              " [3.1466153829351846, 17],\n",
              " [3.2192024901213845, 18],\n",
              " [3.2317805221666656, 19]]"
            ]
          },
          "metadata": {
            "tags": []
          },
          "execution_count": 327
        }
      ]
    },
    {
      "cell_type": "code",
      "metadata": {
        "colab": {
          "base_uri": "https://localhost:8080/"
        },
        "id": "W62FUGHtfFKX",
        "outputId": "3755ab23-0be1-47cf-b1b8-de476a89f041"
      },
      "source": [
        "# taking k=5\n",
        "\n",
        "knn_reg2 = knn_regression(k_val=5, distance_metric='euclidean')\n",
        "knn_reg2.fit(X_train, y_train)\n",
        "\n",
        "pred = np.array(knn_reg2.predict(X_test, y_test))\n",
        "print(root_mean_squared_error(pred, y_test))"
      ],
      "execution_count": 330,
      "outputs": [
        {
          "output_type": "stream",
          "text": [
            "2.4437655864343766\n"
          ],
          "name": "stdout"
        }
      ]
    },
    {
      "cell_type": "code",
      "metadata": {
        "colab": {
          "base_uri": "https://localhost:8080/"
        },
        "id": "UKYz3Xw1ftRX",
        "outputId": "be8334f8-3a6c-439f-da89-3e4c1c4d2095"
      },
      "source": [
        "np.concatenate((pred.reshape(len(pred), 1), y_test.reshape(len(y_test), 1)), 1)"
      ],
      "execution_count": 331,
      "outputs": [
        {
          "output_type": "execute_result",
          "data": {
            "text/plain": [
              "array([[18.7304816 , 20.74206627],\n",
              "       [12.46198515, 13.81723939],\n",
              "       [16.80371061, 17.81961886],\n",
              "       [17.90471101, 17.48249302],\n",
              "       [22.0913382 , 20.50016097],\n",
              "       [14.04504317, 16.10013472],\n",
              "       [11.77385656, 11.51405781],\n",
              "       [ 8.40360588,  6.02354253],\n",
              "       [12.85862781, 12.6055153 ],\n",
              "       [13.82643859, 16.05781055],\n",
              "       [17.44141431, 21.87288581],\n",
              "       [ 9.01027911,  5.83388314],\n",
              "       [ 9.65465532,  6.53241291],\n",
              "       [14.99812137, 16.73993945],\n",
              "       [18.24440292, 23.5974251 ],\n",
              "       [12.31375957,  9.91530892],\n",
              "       [20.53492806, 20.81787222],\n",
              "       [17.79094777, 21.19158942],\n",
              "       [10.68828955, 12.30472449],\n",
              "       [18.50367236, 16.59545421]])"
            ]
          },
          "metadata": {
            "tags": []
          },
          "execution_count": 331
        }
      ]
    }
  ]
}