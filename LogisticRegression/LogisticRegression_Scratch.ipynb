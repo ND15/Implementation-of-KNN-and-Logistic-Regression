{
  "nbformat": 4,
  "nbformat_minor": 0,
  "metadata": {
    "colab": {
      "name": "LogisticRegression_Scratch.ipynb",
      "provenance": [],
      "collapsed_sections": []
    },
    "kernelspec": {
      "name": "python3",
      "display_name": "Python 3"
    },
    "language_info": {
      "name": "python"
    }
  },
  "cells": [
    {
      "cell_type": "code",
      "metadata": {
        "id": "H7hEZIJprcdj"
      },
      "source": [
        "import numpy as np\n",
        "import pandas as pd\n",
        "import matplotlib.pyplot as plt"
      ],
      "execution_count": 92,
      "outputs": []
    },
    {
      "cell_type": "code",
      "metadata": {
        "id": "r0Jl2OqtrkOz"
      },
      "source": [
        "# importing the breast cancer dataset from sklearn\n",
        "\n",
        "from sklearn import datasets\n",
        "dataset = datasets.load_breast_cancer()"
      ],
      "execution_count": 93,
      "outputs": []
    },
    {
      "cell_type": "code",
      "metadata": {
        "colab": {
          "base_uri": "https://localhost:8080/"
        },
        "id": "ruFLUSlUsbJ2",
        "outputId": "994b7904-eabd-4342-8de3-013f916e76de"
      },
      "source": [
        "# getting the shapes of the arrays\n",
        "\n",
        "dataset['feature_names'].shape, dataset['data'].shape, dataset['target'].shape"
      ],
      "execution_count": 94,
      "outputs": [
        {
          "output_type": "execute_result",
          "data": {
            "text/plain": [
              "((30,), (569, 30), (569,))"
            ]
          },
          "metadata": {
            "tags": []
          },
          "execution_count": 94
        }
      ]
    },
    {
      "cell_type": "code",
      "metadata": {
        "id": "v_zj3S00rxgG"
      },
      "source": [
        "# separating the data, feature names and target label into different arrays\n",
        "\n",
        "data_array = dataset['data']\n",
        "feature_names = dataset['feature_names']\n",
        "target_array = dataset['target']"
      ],
      "execution_count": 95,
      "outputs": []
    },
    {
      "cell_type": "code",
      "metadata": {
        "colab": {
          "base_uri": "https://localhost:8080/"
        },
        "id": "1GWwFFZrtBAe",
        "outputId": "bb0960c2-6590-4b30-add4-e3b23e957f84"
      },
      "source": [
        "data_array[:5],target_array[:5]"
      ],
      "execution_count": 96,
      "outputs": [
        {
          "output_type": "execute_result",
          "data": {
            "text/plain": [
              "(array([[1.799e+01, 1.038e+01, 1.228e+02, 1.001e+03, 1.184e-01, 2.776e-01,\n",
              "         3.001e-01, 1.471e-01, 2.419e-01, 7.871e-02, 1.095e+00, 9.053e-01,\n",
              "         8.589e+00, 1.534e+02, 6.399e-03, 4.904e-02, 5.373e-02, 1.587e-02,\n",
              "         3.003e-02, 6.193e-03, 2.538e+01, 1.733e+01, 1.846e+02, 2.019e+03,\n",
              "         1.622e-01, 6.656e-01, 7.119e-01, 2.654e-01, 4.601e-01, 1.189e-01],\n",
              "        [2.057e+01, 1.777e+01, 1.329e+02, 1.326e+03, 8.474e-02, 7.864e-02,\n",
              "         8.690e-02, 7.017e-02, 1.812e-01, 5.667e-02, 5.435e-01, 7.339e-01,\n",
              "         3.398e+00, 7.408e+01, 5.225e-03, 1.308e-02, 1.860e-02, 1.340e-02,\n",
              "         1.389e-02, 3.532e-03, 2.499e+01, 2.341e+01, 1.588e+02, 1.956e+03,\n",
              "         1.238e-01, 1.866e-01, 2.416e-01, 1.860e-01, 2.750e-01, 8.902e-02],\n",
              "        [1.969e+01, 2.125e+01, 1.300e+02, 1.203e+03, 1.096e-01, 1.599e-01,\n",
              "         1.974e-01, 1.279e-01, 2.069e-01, 5.999e-02, 7.456e-01, 7.869e-01,\n",
              "         4.585e+00, 9.403e+01, 6.150e-03, 4.006e-02, 3.832e-02, 2.058e-02,\n",
              "         2.250e-02, 4.571e-03, 2.357e+01, 2.553e+01, 1.525e+02, 1.709e+03,\n",
              "         1.444e-01, 4.245e-01, 4.504e-01, 2.430e-01, 3.613e-01, 8.758e-02],\n",
              "        [1.142e+01, 2.038e+01, 7.758e+01, 3.861e+02, 1.425e-01, 2.839e-01,\n",
              "         2.414e-01, 1.052e-01, 2.597e-01, 9.744e-02, 4.956e-01, 1.156e+00,\n",
              "         3.445e+00, 2.723e+01, 9.110e-03, 7.458e-02, 5.661e-02, 1.867e-02,\n",
              "         5.963e-02, 9.208e-03, 1.491e+01, 2.650e+01, 9.887e+01, 5.677e+02,\n",
              "         2.098e-01, 8.663e-01, 6.869e-01, 2.575e-01, 6.638e-01, 1.730e-01],\n",
              "        [2.029e+01, 1.434e+01, 1.351e+02, 1.297e+03, 1.003e-01, 1.328e-01,\n",
              "         1.980e-01, 1.043e-01, 1.809e-01, 5.883e-02, 7.572e-01, 7.813e-01,\n",
              "         5.438e+00, 9.444e+01, 1.149e-02, 2.461e-02, 5.688e-02, 1.885e-02,\n",
              "         1.756e-02, 5.115e-03, 2.254e+01, 1.667e+01, 1.522e+02, 1.575e+03,\n",
              "         1.374e-01, 2.050e-01, 4.000e-01, 1.625e-01, 2.364e-01, 7.678e-02]]),\n",
              " array([0, 0, 0, 0, 0]))"
            ]
          },
          "metadata": {
            "tags": []
          },
          "execution_count": 96
        }
      ]
    },
    {
      "cell_type": "code",
      "metadata": {
        "colab": {
          "base_uri": "https://localhost:8080/",
          "height": 257
        },
        "id": "c4jpDfPkunR-",
        "outputId": "4a4805f7-acde-4edc-979a-e2695294f1c3"
      },
      "source": [
        "# concatenating the data array and target array to form the pandas dataframe\n",
        "\n",
        "new = np.concatenate((data_array.reshape(len(data_array), data_array.shape[1]), target_array.reshape(len(target_array), 1)), 1)\n",
        "feature_names = np.append(feature_names, 'Target')\n",
        "feature_names = feature_names[:31]\n",
        "\n",
        "\n",
        "framed_data = pd.DataFrame(new, columns=feature_names)\n",
        "framed_data.head()"
      ],
      "execution_count": 97,
      "outputs": [
        {
          "output_type": "execute_result",
          "data": {
            "text/html": [
              "<div>\n",
              "<style scoped>\n",
              "    .dataframe tbody tr th:only-of-type {\n",
              "        vertical-align: middle;\n",
              "    }\n",
              "\n",
              "    .dataframe tbody tr th {\n",
              "        vertical-align: top;\n",
              "    }\n",
              "\n",
              "    .dataframe thead th {\n",
              "        text-align: right;\n",
              "    }\n",
              "</style>\n",
              "<table border=\"1\" class=\"dataframe\">\n",
              "  <thead>\n",
              "    <tr style=\"text-align: right;\">\n",
              "      <th></th>\n",
              "      <th>mean radius</th>\n",
              "      <th>mean texture</th>\n",
              "      <th>mean perimeter</th>\n",
              "      <th>mean area</th>\n",
              "      <th>mean smoothness</th>\n",
              "      <th>mean compactness</th>\n",
              "      <th>mean concavity</th>\n",
              "      <th>mean concave points</th>\n",
              "      <th>mean symmetry</th>\n",
              "      <th>mean fractal dimension</th>\n",
              "      <th>radius error</th>\n",
              "      <th>texture error</th>\n",
              "      <th>perimeter error</th>\n",
              "      <th>area error</th>\n",
              "      <th>smoothness error</th>\n",
              "      <th>compactness error</th>\n",
              "      <th>concavity error</th>\n",
              "      <th>concave points error</th>\n",
              "      <th>symmetry error</th>\n",
              "      <th>fractal dimension error</th>\n",
              "      <th>worst radius</th>\n",
              "      <th>worst texture</th>\n",
              "      <th>worst perimeter</th>\n",
              "      <th>worst area</th>\n",
              "      <th>worst smoothness</th>\n",
              "      <th>worst compactness</th>\n",
              "      <th>worst concavity</th>\n",
              "      <th>worst concave points</th>\n",
              "      <th>worst symmetry</th>\n",
              "      <th>worst fractal dimension</th>\n",
              "      <th>Target</th>\n",
              "    </tr>\n",
              "  </thead>\n",
              "  <tbody>\n",
              "    <tr>\n",
              "      <th>0</th>\n",
              "      <td>17.99</td>\n",
              "      <td>10.38</td>\n",
              "      <td>122.80</td>\n",
              "      <td>1001.0</td>\n",
              "      <td>0.11840</td>\n",
              "      <td>0.27760</td>\n",
              "      <td>0.3001</td>\n",
              "      <td>0.14710</td>\n",
              "      <td>0.2419</td>\n",
              "      <td>0.07871</td>\n",
              "      <td>1.0950</td>\n",
              "      <td>0.9053</td>\n",
              "      <td>8.589</td>\n",
              "      <td>153.40</td>\n",
              "      <td>0.006399</td>\n",
              "      <td>0.04904</td>\n",
              "      <td>0.05373</td>\n",
              "      <td>0.01587</td>\n",
              "      <td>0.03003</td>\n",
              "      <td>0.006193</td>\n",
              "      <td>25.38</td>\n",
              "      <td>17.33</td>\n",
              "      <td>184.60</td>\n",
              "      <td>2019.0</td>\n",
              "      <td>0.1622</td>\n",
              "      <td>0.6656</td>\n",
              "      <td>0.7119</td>\n",
              "      <td>0.2654</td>\n",
              "      <td>0.4601</td>\n",
              "      <td>0.11890</td>\n",
              "      <td>0.0</td>\n",
              "    </tr>\n",
              "    <tr>\n",
              "      <th>1</th>\n",
              "      <td>20.57</td>\n",
              "      <td>17.77</td>\n",
              "      <td>132.90</td>\n",
              "      <td>1326.0</td>\n",
              "      <td>0.08474</td>\n",
              "      <td>0.07864</td>\n",
              "      <td>0.0869</td>\n",
              "      <td>0.07017</td>\n",
              "      <td>0.1812</td>\n",
              "      <td>0.05667</td>\n",
              "      <td>0.5435</td>\n",
              "      <td>0.7339</td>\n",
              "      <td>3.398</td>\n",
              "      <td>74.08</td>\n",
              "      <td>0.005225</td>\n",
              "      <td>0.01308</td>\n",
              "      <td>0.01860</td>\n",
              "      <td>0.01340</td>\n",
              "      <td>0.01389</td>\n",
              "      <td>0.003532</td>\n",
              "      <td>24.99</td>\n",
              "      <td>23.41</td>\n",
              "      <td>158.80</td>\n",
              "      <td>1956.0</td>\n",
              "      <td>0.1238</td>\n",
              "      <td>0.1866</td>\n",
              "      <td>0.2416</td>\n",
              "      <td>0.1860</td>\n",
              "      <td>0.2750</td>\n",
              "      <td>0.08902</td>\n",
              "      <td>0.0</td>\n",
              "    </tr>\n",
              "    <tr>\n",
              "      <th>2</th>\n",
              "      <td>19.69</td>\n",
              "      <td>21.25</td>\n",
              "      <td>130.00</td>\n",
              "      <td>1203.0</td>\n",
              "      <td>0.10960</td>\n",
              "      <td>0.15990</td>\n",
              "      <td>0.1974</td>\n",
              "      <td>0.12790</td>\n",
              "      <td>0.2069</td>\n",
              "      <td>0.05999</td>\n",
              "      <td>0.7456</td>\n",
              "      <td>0.7869</td>\n",
              "      <td>4.585</td>\n",
              "      <td>94.03</td>\n",
              "      <td>0.006150</td>\n",
              "      <td>0.04006</td>\n",
              "      <td>0.03832</td>\n",
              "      <td>0.02058</td>\n",
              "      <td>0.02250</td>\n",
              "      <td>0.004571</td>\n",
              "      <td>23.57</td>\n",
              "      <td>25.53</td>\n",
              "      <td>152.50</td>\n",
              "      <td>1709.0</td>\n",
              "      <td>0.1444</td>\n",
              "      <td>0.4245</td>\n",
              "      <td>0.4504</td>\n",
              "      <td>0.2430</td>\n",
              "      <td>0.3613</td>\n",
              "      <td>0.08758</td>\n",
              "      <td>0.0</td>\n",
              "    </tr>\n",
              "    <tr>\n",
              "      <th>3</th>\n",
              "      <td>11.42</td>\n",
              "      <td>20.38</td>\n",
              "      <td>77.58</td>\n",
              "      <td>386.1</td>\n",
              "      <td>0.14250</td>\n",
              "      <td>0.28390</td>\n",
              "      <td>0.2414</td>\n",
              "      <td>0.10520</td>\n",
              "      <td>0.2597</td>\n",
              "      <td>0.09744</td>\n",
              "      <td>0.4956</td>\n",
              "      <td>1.1560</td>\n",
              "      <td>3.445</td>\n",
              "      <td>27.23</td>\n",
              "      <td>0.009110</td>\n",
              "      <td>0.07458</td>\n",
              "      <td>0.05661</td>\n",
              "      <td>0.01867</td>\n",
              "      <td>0.05963</td>\n",
              "      <td>0.009208</td>\n",
              "      <td>14.91</td>\n",
              "      <td>26.50</td>\n",
              "      <td>98.87</td>\n",
              "      <td>567.7</td>\n",
              "      <td>0.2098</td>\n",
              "      <td>0.8663</td>\n",
              "      <td>0.6869</td>\n",
              "      <td>0.2575</td>\n",
              "      <td>0.6638</td>\n",
              "      <td>0.17300</td>\n",
              "      <td>0.0</td>\n",
              "    </tr>\n",
              "    <tr>\n",
              "      <th>4</th>\n",
              "      <td>20.29</td>\n",
              "      <td>14.34</td>\n",
              "      <td>135.10</td>\n",
              "      <td>1297.0</td>\n",
              "      <td>0.10030</td>\n",
              "      <td>0.13280</td>\n",
              "      <td>0.1980</td>\n",
              "      <td>0.10430</td>\n",
              "      <td>0.1809</td>\n",
              "      <td>0.05883</td>\n",
              "      <td>0.7572</td>\n",
              "      <td>0.7813</td>\n",
              "      <td>5.438</td>\n",
              "      <td>94.44</td>\n",
              "      <td>0.011490</td>\n",
              "      <td>0.02461</td>\n",
              "      <td>0.05688</td>\n",
              "      <td>0.01885</td>\n",
              "      <td>0.01756</td>\n",
              "      <td>0.005115</td>\n",
              "      <td>22.54</td>\n",
              "      <td>16.67</td>\n",
              "      <td>152.20</td>\n",
              "      <td>1575.0</td>\n",
              "      <td>0.1374</td>\n",
              "      <td>0.2050</td>\n",
              "      <td>0.4000</td>\n",
              "      <td>0.1625</td>\n",
              "      <td>0.2364</td>\n",
              "      <td>0.07678</td>\n",
              "      <td>0.0</td>\n",
              "    </tr>\n",
              "  </tbody>\n",
              "</table>\n",
              "</div>"
            ],
            "text/plain": [
              "   mean radius  mean texture  ...  worst fractal dimension  Target\n",
              "0        17.99         10.38  ...                  0.11890     0.0\n",
              "1        20.57         17.77  ...                  0.08902     0.0\n",
              "2        19.69         21.25  ...                  0.08758     0.0\n",
              "3        11.42         20.38  ...                  0.17300     0.0\n",
              "4        20.29         14.34  ...                  0.07678     0.0\n",
              "\n",
              "[5 rows x 31 columns]"
            ]
          },
          "metadata": {
            "tags": []
          },
          "execution_count": 97
        }
      ]
    },
    {
      "cell_type": "code",
      "metadata": {
        "colab": {
          "base_uri": "https://localhost:8080/"
        },
        "id": "z9xIK2-MOwz6",
        "outputId": "30b8fa5e-38ca-486e-b931-e0e4600573b5"
      },
      "source": [
        "# checking for missing values using info() and isnull()\n",
        "framed_data.info(), framed_data.isnull().sum()"
      ],
      "execution_count": 98,
      "outputs": [
        {
          "output_type": "stream",
          "text": [
            "<class 'pandas.core.frame.DataFrame'>\n",
            "RangeIndex: 569 entries, 0 to 568\n",
            "Data columns (total 31 columns):\n",
            " #   Column                   Non-Null Count  Dtype  \n",
            "---  ------                   --------------  -----  \n",
            " 0   mean radius              569 non-null    float64\n",
            " 1   mean texture             569 non-null    float64\n",
            " 2   mean perimeter           569 non-null    float64\n",
            " 3   mean area                569 non-null    float64\n",
            " 4   mean smoothness          569 non-null    float64\n",
            " 5   mean compactness         569 non-null    float64\n",
            " 6   mean concavity           569 non-null    float64\n",
            " 7   mean concave points      569 non-null    float64\n",
            " 8   mean symmetry            569 non-null    float64\n",
            " 9   mean fractal dimension   569 non-null    float64\n",
            " 10  radius error             569 non-null    float64\n",
            " 11  texture error            569 non-null    float64\n",
            " 12  perimeter error          569 non-null    float64\n",
            " 13  area error               569 non-null    float64\n",
            " 14  smoothness error         569 non-null    float64\n",
            " 15  compactness error        569 non-null    float64\n",
            " 16  concavity error          569 non-null    float64\n",
            " 17  concave points error     569 non-null    float64\n",
            " 18  symmetry error           569 non-null    float64\n",
            " 19  fractal dimension error  569 non-null    float64\n",
            " 20  worst radius             569 non-null    float64\n",
            " 21  worst texture            569 non-null    float64\n",
            " 22  worst perimeter          569 non-null    float64\n",
            " 23  worst area               569 non-null    float64\n",
            " 24  worst smoothness         569 non-null    float64\n",
            " 25  worst compactness        569 non-null    float64\n",
            " 26  worst concavity          569 non-null    float64\n",
            " 27  worst concave points     569 non-null    float64\n",
            " 28  worst symmetry           569 non-null    float64\n",
            " 29  worst fractal dimension  569 non-null    float64\n",
            " 30  Target                   569 non-null    float64\n",
            "dtypes: float64(31)\n",
            "memory usage: 137.9 KB\n"
          ],
          "name": "stdout"
        },
        {
          "output_type": "execute_result",
          "data": {
            "text/plain": [
              "(None, mean radius                0\n",
              " mean texture               0\n",
              " mean perimeter             0\n",
              " mean area                  0\n",
              " mean smoothness            0\n",
              " mean compactness           0\n",
              " mean concavity             0\n",
              " mean concave points        0\n",
              " mean symmetry              0\n",
              " mean fractal dimension     0\n",
              " radius error               0\n",
              " texture error              0\n",
              " perimeter error            0\n",
              " area error                 0\n",
              " smoothness error           0\n",
              " compactness error          0\n",
              " concavity error            0\n",
              " concave points error       0\n",
              " symmetry error             0\n",
              " fractal dimension error    0\n",
              " worst radius               0\n",
              " worst texture              0\n",
              " worst perimeter            0\n",
              " worst area                 0\n",
              " worst smoothness           0\n",
              " worst compactness          0\n",
              " worst concavity            0\n",
              " worst concave points       0\n",
              " worst symmetry             0\n",
              " worst fractal dimension    0\n",
              " Target                     0\n",
              " dtype: int64)"
            ]
          },
          "metadata": {
            "tags": []
          },
          "execution_count": 98
        }
      ]
    },
    {
      "cell_type": "code",
      "metadata": {
        "id": "ci_7xopy4E9P"
      },
      "source": [
        "def one_hot(y):\n",
        "  n = y.max() + 1\n",
        "  m = len(y)\n",
        "  one_hot = np.zeros((m, n))\n",
        "  one_hot[np.arange(m), y] = 1\n",
        "  return one_hot"
      ],
      "execution_count": 99,
      "outputs": []
    },
    {
      "cell_type": "code",
      "metadata": {
        "id": "nvn3048z5L76"
      },
      "source": [
        "from sklearn.model_selection import train_test_split\n",
        "X_train, X_test, y_train, y_test = train_test_split(data_array, target_array, test_size=0.2,random_state=42)"
      ],
      "execution_count": 100,
      "outputs": []
    },
    {
      "cell_type": "code",
      "metadata": {
        "colab": {
          "base_uri": "https://localhost:8080/"
        },
        "id": "0mfvmitQGkr3",
        "outputId": "d1ae3b65-e244-4cc8-c2b4-ccffad8e7876"
      },
      "source": [
        "one_hot(y_train[:10]), y_train[:10]"
      ],
      "execution_count": 101,
      "outputs": [
        {
          "output_type": "execute_result",
          "data": {
            "text/plain": [
              "(array([[0., 1.],\n",
              "        [1., 0.],\n",
              "        [0., 1.],\n",
              "        [0., 1.],\n",
              "        [0., 1.],\n",
              "        [1., 0.],\n",
              "        [0., 1.],\n",
              "        [0., 1.],\n",
              "        [0., 1.],\n",
              "        [1., 0.]]), array([1, 0, 1, 1, 1, 0, 1, 1, 1, 0]))"
            ]
          },
          "metadata": {
            "tags": []
          },
          "execution_count": 101
        }
      ]
    },
    {
      "cell_type": "code",
      "metadata": {
        "id": "c8f7vweYJxHM"
      },
      "source": [
        "from sklearn.preprocessing import StandardScaler\n",
        "sc = StandardScaler()\n",
        "X_train = sc.fit_transform(X_train)\n",
        "X_test = sc.transform(X_test)"
      ],
      "execution_count": 102,
      "outputs": []
    },
    {
      "cell_type": "code",
      "metadata": {
        "colab": {
          "base_uri": "https://localhost:8080/"
        },
        "id": "fnoTyDuu5fUq",
        "outputId": "ea09dd8a-2330-4518-c5e6-966cc97b54c8"
      },
      "source": [
        "X_train.shape, y_train.shape"
      ],
      "execution_count": 103,
      "outputs": [
        {
          "output_type": "execute_result",
          "data": {
            "text/plain": [
              "((455, 30), (455,))"
            ]
          },
          "metadata": {
            "tags": []
          },
          "execution_count": 103
        }
      ]
    },
    {
      "cell_type": "code",
      "metadata": {
        "id": "E6xe6UNo6GHs"
      },
      "source": [
        "y_train_one_hot = one_hot(y_train)\n",
        "y_test_one_hot = one_hot(y_train)"
      ],
      "execution_count": 104,
      "outputs": []
    },
    {
      "cell_type": "code",
      "metadata": {
        "id": "tLncPMo0Ev93"
      },
      "source": [
        "# activation functions\n",
        "\n",
        "def sigmoid(z):\n",
        "  deno = 1 + np.exp(-z)\n",
        "  return 1 / deno\n",
        "\n",
        "def softmax(z):\n",
        "  exps = np.exp(z)\n",
        "  sum_exp = np.sum(exps, axis=1, keepdims=True)\n",
        "  return exps / sum_exp\n",
        "\n",
        "def tanh(z):\n",
        "  pos_exp = np.exp(z)\n",
        "  neg_exp = np.exp(-z)\n",
        "  num = pos_exp - neg_exp\n",
        "  deno = pos_exp + neg_exp\n",
        "  return num / deno"
      ],
      "execution_count": 105,
      "outputs": []
    },
    {
      "cell_type": "markdown",
      "metadata": {
        "id": "Gxg0hTAhJorX"
      },
      "source": [
        "# Logistic Regression Class"
      ]
    },
    {
      "cell_type": "code",
      "metadata": {
        "id": "2iWMRHix6OkJ"
      },
      "source": [
        "class LogisticRegression:\n",
        "  \"\"\"Class for the implementation of Logistic Regression\"\"\"\n",
        "  \n",
        "  def __init__(self, alpha=0.1, n_iterations=1000, activation_function=None):\n",
        "    self.activation_function = activation_function\n",
        "    self.alpha = alpha\n",
        "    self.n_iterations = n_iterations\n",
        "\n",
        "  def __gradient_descent(self, X, y):\n",
        "    m = len(X)\n",
        "    features = X.shape[1]\n",
        "    outputs = len(y[1])\n",
        "\n",
        "    theta = np.random.randn(features, outputs)\n",
        "\n",
        "    for iteration in range(self.n_iterations):\n",
        "      y_prob = self.__main_predict(X, theta)\n",
        "      \n",
        "      gradients = 1/m * X.T.dot(y_prob - y)\n",
        "      theta = theta - self.alpha * gradients\n",
        "    \n",
        "    return theta\n",
        "\n",
        "  def fit(self, X, y):\n",
        "    X_new = np.c_[np.ones((len(X), 1)), X]\n",
        "    self.theta = self.__gradient_descent(X_new, y)\n",
        "\n",
        "\n",
        "  def __main_predict(self, X, theta):\n",
        "    if (self.activation_function == 'sigmoid'):\n",
        "      y_prob = sigmoid(X.dot(theta))\n",
        "\n",
        "    elif (self.activation_function == 'softmax'):\n",
        "      y_prob = softmax(X.dot(theta))\n",
        "\n",
        "    elif (self.activation_function == 'tanh'):\n",
        "      y_prob = tanh(X.dot(theta))\n",
        "\n",
        "    return y_prob\n",
        "\n",
        "  def predict(self, X):\n",
        "    X_new = np.c_[np.ones((len(X), 1)), X]\n",
        "    self.prob = self.__main_predict(X_new, self.theta)\n",
        "\n",
        "    y_pred = np.argmax(self.prob, axis=1)\n",
        "    return y_pred\n",
        "\n",
        "  def predict_proba(self, X):\n",
        "    X_new = np.c_[np.ones((len(X), 1)), X]\n",
        "    self.prob = self.__main_predict(X_new, self.theta)\n",
        "\n",
        "    # zero for negative percentages\n",
        "    # y_proba = np.array(list(map(lambda x: [max(x[0],0), max(x[1], 0)], self.prob)))\n",
        "    y_proba = self.prob * 100\n",
        "    return y_proba\n"
      ],
      "execution_count": 106,
      "outputs": []
    },
    {
      "cell_type": "markdown",
      "metadata": {
        "id": "IS6socJeJNuw"
      },
      "source": [
        "# Sigmoid"
      ]
    },
    {
      "cell_type": "code",
      "metadata": {
        "id": "pGZ__UOc_RcY"
      },
      "source": [
        "# sigmoid\n",
        "log_reg = LogisticRegression(alpha=0.01, n_iterations=1000,activation_function='sigmoid')\n",
        "log_reg.fit(X_train, y_train_one_hot)"
      ],
      "execution_count": 107,
      "outputs": []
    },
    {
      "cell_type": "code",
      "metadata": {
        "id": "n1_1Xts4CkUW"
      },
      "source": [
        "y_pred = log_reg.predict(X_test)"
      ],
      "execution_count": 108,
      "outputs": []
    },
    {
      "cell_type": "code",
      "metadata": {
        "colab": {
          "base_uri": "https://localhost:8080/"
        },
        "id": "YU3S_HMkC7uG",
        "outputId": "57a25401-f275-49a5-93ee-9af8996b9b21"
      },
      "source": [
        "y_pred.shape, y_test.shape"
      ],
      "execution_count": 109,
      "outputs": [
        {
          "output_type": "execute_result",
          "data": {
            "text/plain": [
              "((114,), (114,))"
            ]
          },
          "metadata": {
            "tags": []
          },
          "execution_count": 109
        }
      ]
    },
    {
      "cell_type": "code",
      "metadata": {
        "colab": {
          "base_uri": "https://localhost:8080/"
        },
        "id": "Fr8Vk3hLMmyh",
        "outputId": "a232ea8b-f308-4633-ffb0-e98d9c566e3f"
      },
      "source": [
        "np.c_[y_pred, y_test]"
      ],
      "execution_count": 110,
      "outputs": [
        {
          "output_type": "execute_result",
          "data": {
            "text/plain": [
              "array([[1, 1],\n",
              "       [0, 0],\n",
              "       [0, 0],\n",
              "       [1, 1],\n",
              "       [1, 1],\n",
              "       [0, 0],\n",
              "       [0, 0],\n",
              "       [0, 0],\n",
              "       [1, 1],\n",
              "       [1, 1],\n",
              "       [1, 1],\n",
              "       [0, 0],\n",
              "       [1, 1],\n",
              "       [0, 0],\n",
              "       [1, 1],\n",
              "       [0, 0],\n",
              "       [1, 1],\n",
              "       [1, 1],\n",
              "       [1, 1],\n",
              "       [0, 0],\n",
              "       [1, 0],\n",
              "       [1, 1],\n",
              "       [0, 0],\n",
              "       [1, 1],\n",
              "       [1, 1],\n",
              "       [1, 1],\n",
              "       [1, 1],\n",
              "       [1, 1],\n",
              "       [1, 1],\n",
              "       [0, 0],\n",
              "       [1, 1],\n",
              "       [1, 1],\n",
              "       [1, 1],\n",
              "       [1, 1],\n",
              "       [1, 1],\n",
              "       [1, 1],\n",
              "       [0, 0],\n",
              "       [1, 1],\n",
              "       [0, 0],\n",
              "       [1, 1],\n",
              "       [1, 1],\n",
              "       [0, 0],\n",
              "       [1, 1],\n",
              "       [1, 1],\n",
              "       [1, 1],\n",
              "       [1, 1],\n",
              "       [1, 1],\n",
              "       [1, 1],\n",
              "       [1, 1],\n",
              "       [1, 1],\n",
              "       [0, 0],\n",
              "       [0, 0],\n",
              "       [0, 1],\n",
              "       [1, 1],\n",
              "       [1, 1],\n",
              "       [1, 1],\n",
              "       [1, 1],\n",
              "       [0, 0],\n",
              "       [0, 0],\n",
              "       [1, 1],\n",
              "       [1, 1],\n",
              "       [0, 0],\n",
              "       [0, 0],\n",
              "       [1, 1],\n",
              "       [1, 1],\n",
              "       [1, 1],\n",
              "       [0, 0],\n",
              "       [0, 0],\n",
              "       [1, 1],\n",
              "       [1, 1],\n",
              "       [0, 0],\n",
              "       [0, 0],\n",
              "       [1, 1],\n",
              "       [0, 0],\n",
              "       [1, 1],\n",
              "       [1, 1],\n",
              "       [1, 1],\n",
              "       [1, 0],\n",
              "       [1, 1],\n",
              "       [1, 1],\n",
              "       [0, 0],\n",
              "       [1, 1],\n",
              "       [1, 0],\n",
              "       [0, 0],\n",
              "       [0, 0],\n",
              "       [0, 0],\n",
              "       [0, 0],\n",
              "       [0, 0],\n",
              "       [1, 1],\n",
              "       [1, 1],\n",
              "       [1, 1],\n",
              "       [1, 1],\n",
              "       [1, 1],\n",
              "       [1, 1],\n",
              "       [1, 1],\n",
              "       [1, 1],\n",
              "       [0, 0],\n",
              "       [0, 0],\n",
              "       [1, 1],\n",
              "       [0, 0],\n",
              "       [0, 0],\n",
              "       [1, 1],\n",
              "       [0, 0],\n",
              "       [0, 0],\n",
              "       [1, 1],\n",
              "       [1, 1],\n",
              "       [1, 1],\n",
              "       [0, 0],\n",
              "       [1, 1],\n",
              "       [1, 1],\n",
              "       [0, 0],\n",
              "       [1, 1],\n",
              "       [1, 1],\n",
              "       [0, 0]])"
            ]
          },
          "metadata": {
            "tags": []
          },
          "execution_count": 110
        }
      ]
    },
    {
      "cell_type": "code",
      "metadata": {
        "colab": {
          "base_uri": "https://localhost:8080/"
        },
        "id": "sPcQzCF1C3IG",
        "outputId": "27dd1bc2-fb09-456f-c1e8-4f0a7f2336f2"
      },
      "source": [
        "from sklearn.metrics import accuracy_score\n",
        "accuracy_score(y_test, y_pred)"
      ],
      "execution_count": 111,
      "outputs": [
        {
          "output_type": "execute_result",
          "data": {
            "text/plain": [
              "0.9649122807017544"
            ]
          },
          "metadata": {
            "tags": []
          },
          "execution_count": 111
        }
      ]
    },
    {
      "cell_type": "markdown",
      "metadata": {
        "id": "HUClx_edJRNB"
      },
      "source": [
        "# Softmax"
      ]
    },
    {
      "cell_type": "code",
      "metadata": {
        "id": "9lIPPa2TMsyb"
      },
      "source": [
        "log_reg1 = LogisticRegression(alpha=0.1, n_iterations=1000,activation_function='softmax')\n",
        "log_reg1.fit(X_train, y_train_one_hot)"
      ],
      "execution_count": 112,
      "outputs": []
    },
    {
      "cell_type": "code",
      "metadata": {
        "id": "JiBR2VcMMvAz"
      },
      "source": [
        "y_pred2 = log_reg1.predict(X_test)"
      ],
      "execution_count": 113,
      "outputs": []
    },
    {
      "cell_type": "code",
      "metadata": {
        "colab": {
          "base_uri": "https://localhost:8080/"
        },
        "id": "zmgFuqRxZKQl",
        "outputId": "362bbfdf-3d6e-41b3-aa30-42afb350baf6"
      },
      "source": [
        "y_pred2"
      ],
      "execution_count": 114,
      "outputs": [
        {
          "output_type": "execute_result",
          "data": {
            "text/plain": [
              "array([1, 0, 0, 1, 1, 0, 0, 0, 1, 1, 1, 0, 1, 0, 1, 0, 1, 1, 1, 0, 1, 1,\n",
              "       0, 1, 1, 1, 1, 1, 1, 0, 1, 1, 1, 1, 1, 1, 0, 1, 0, 1, 1, 0, 1, 1,\n",
              "       1, 1, 1, 1, 1, 1, 0, 0, 1, 1, 1, 1, 1, 0, 0, 1, 1, 0, 0, 1, 1, 1,\n",
              "       0, 0, 1, 1, 0, 0, 1, 0, 1, 1, 1, 0, 1, 1, 0, 1, 0, 0, 0, 0, 0, 0,\n",
              "       1, 1, 1, 1, 1, 1, 1, 1, 0, 0, 1, 0, 0, 1, 0, 0, 1, 1, 1, 0, 1, 1,\n",
              "       0, 1, 1, 0])"
            ]
          },
          "metadata": {
            "tags": []
          },
          "execution_count": 114
        }
      ]
    },
    {
      "cell_type": "code",
      "metadata": {
        "colab": {
          "base_uri": "https://localhost:8080/"
        },
        "id": "A6BbXBTqNMCy",
        "outputId": "e2b76012-b3ce-4e15-98d7-d2a710940414"
      },
      "source": [
        "from sklearn.metrics import accuracy_score\n",
        "accuracy_score(y_test, y_pred2)"
      ],
      "execution_count": 115,
      "outputs": [
        {
          "output_type": "execute_result",
          "data": {
            "text/plain": [
              "0.9912280701754386"
            ]
          },
          "metadata": {
            "tags": []
          },
          "execution_count": 115
        }
      ]
    },
    {
      "cell_type": "markdown",
      "metadata": {
        "id": "ztrBoqaZJUv_"
      },
      "source": [
        "# Tanh"
      ]
    },
    {
      "cell_type": "code",
      "metadata": {
        "id": "dMz2IafxZLx2"
      },
      "source": [
        "log_reg1 = LogisticRegression(alpha=0.01, n_iterations=2000,activation_function='tanh')\n",
        "log_reg1.fit(X_train, y_train_one_hot)"
      ],
      "execution_count": 116,
      "outputs": []
    },
    {
      "cell_type": "code",
      "metadata": {
        "id": "aV5Zz1wXZOyW"
      },
      "source": [
        "y_pred3 = log_reg1.predict(X_test)"
      ],
      "execution_count": 117,
      "outputs": []
    },
    {
      "cell_type": "code",
      "metadata": {
        "colab": {
          "base_uri": "https://localhost:8080/"
        },
        "id": "vRVqCM49ZUcH",
        "outputId": "281a88e6-3d46-4225-c6fa-b079ef7f9953"
      },
      "source": [
        "from sklearn.metrics import accuracy_score\n",
        "accuracy_score(y_test, y_pred3)"
      ],
      "execution_count": 118,
      "outputs": [
        {
          "output_type": "execute_result",
          "data": {
            "text/plain": [
              "0.9649122807017544"
            ]
          },
          "metadata": {
            "tags": []
          },
          "execution_count": 118
        }
      ]
    },
    {
      "cell_type": "markdown",
      "metadata": {
        "id": "LiNewbcUJX8w"
      },
      "source": [
        "## Percentage"
      ]
    },
    {
      "cell_type": "code",
      "metadata": {
        "id": "CyRSagHFF0gk"
      },
      "source": [
        "log_reg2 = LogisticRegression(alpha=0.01, n_iterations=2000,activation_function='tanh')\n",
        "log_reg2.fit(X_train, y_train_one_hot)"
      ],
      "execution_count": 119,
      "outputs": []
    },
    {
      "cell_type": "code",
      "metadata": {
        "colab": {
          "base_uri": "https://localhost:8080/"
        },
        "id": "396OFtgiGEwu",
        "outputId": "6debca3b-d6e8-45c6-fd32-dd9c4a617046"
      },
      "source": [
        "# percentage of probability\n",
        "\n",
        "print(log_reg2.predict_proba(X_test))"
      ],
      "execution_count": 120,
      "outputs": [
        {
          "output_type": "stream",
          "text": [
            "[[ 4.21985800e+01  9.40286310e+01]\n",
            " [ 9.84361512e+01  4.33616982e+00]\n",
            " [ 9.61301434e+01  7.70280137e+01]\n",
            " [-5.21044505e+01  9.57968981e+01]\n",
            " [-7.82372987e+01  9.38546288e+01]\n",
            " [ 9.99964643e+01 -1.27495835e+01]\n",
            " [ 9.99799197e+01 -1.61058134e+00]\n",
            " [ 9.49309275e+01  3.60804450e+01]\n",
            " [ 8.39689789e+01  6.51066405e+01]\n",
            " [ 1.86027761e+01  9.42962731e+01]\n",
            " [ 2.25313489e+01  8.69518589e+01]\n",
            " [ 9.22131174e+01  6.63657133e+01]\n",
            " [ 3.31457223e+00  9.43986363e+01]\n",
            " [ 9.90575876e+01  4.52303796e+01]\n",
            " [-2.84388058e+00  9.12609218e+01]\n",
            " [ 9.97146357e+01  9.56778260e+01]\n",
            " [ 1.24989242e+01  9.45989824e+01]\n",
            " [-6.00410056e+01  9.90664116e+01]\n",
            " [-2.92679878e+01  9.94735380e+01]\n",
            " [ 9.97033827e+01 -4.76687299e+01]\n",
            " [ 6.49845207e+01  7.51648378e+01]\n",
            " [-2.80468857e+01  9.34469021e+01]\n",
            " [ 9.99943368e+01 -4.04667419e+01]\n",
            " [-1.39435839e+00  9.58467732e+01]\n",
            " [ 2.86968822e+00  9.20623211e+01]\n",
            " [ 8.74893151e+01  9.64803618e+01]\n",
            " [-2.27043141e+01  9.84167021e+01]\n",
            " [-9.77286319e+00  9.85220162e+01]\n",
            " [-2.85547315e+01  8.77301364e+01]\n",
            " [ 9.98215807e+01  3.46230077e+01]\n",
            " [ 1.63844879e+01  9.61422789e+01]\n",
            " [ 1.26231873e+00  9.61130648e+01]\n",
            " [ 4.26538950e+01  9.83991696e+01]\n",
            " [-3.99012572e+01  8.44391249e+01]\n",
            " [-3.90874091e+00  9.74511836e+01]\n",
            " [ 5.60571258e+01  9.72097746e+01]\n",
            " [ 7.42855369e+01  4.28686141e+01]\n",
            " [ 5.25449365e+01  9.43078347e+01]\n",
            " [ 9.50665032e+01 -2.44421977e+01]\n",
            " [ 4.51290881e+01  8.84996414e+01]\n",
            " [-3.93002918e+01  9.83456821e+01]\n",
            " [ 9.72634125e+01  1.36974248e+01]\n",
            " [-1.46987336e+01  9.56939286e+01]\n",
            " [-1.40643457e+01  9.39869267e+01]\n",
            " [ 9.36400850e+01  9.95943102e+01]\n",
            " [ 1.96816050e+01  7.80288525e+01]\n",
            " [ 1.24268951e+01  9.28650779e+01]\n",
            " [-1.25932581e+01  9.98017227e+01]\n",
            " [ 1.82687634e+01  8.93285034e+01]\n",
            " [-4.86687115e+01  9.14766921e+01]\n",
            " [ 9.13534696e+01 -9.80130199e+00]\n",
            " [ 9.98516147e+01  1.64215970e+01]\n",
            " [ 7.89587673e+01  6.83414819e+01]\n",
            " [ 2.65047631e+01  9.97892724e+01]\n",
            " [ 2.79913478e+01  9.51697415e+01]\n",
            " [ 2.42572661e+01  8.91212763e+01]\n",
            " [ 2.75530874e+01  9.65736425e+01]\n",
            " [ 9.99955216e+01 -6.46550690e+01]\n",
            " [ 8.04550065e+01  3.89620384e+01]\n",
            " [-1.37704311e+01  9.76914115e+01]\n",
            " [-2.20897388e+01  9.52830028e+01]\n",
            " [ 9.99270489e+01  1.71529019e+01]\n",
            " [ 9.99931338e+01  2.20125150e+01]\n",
            " [ 3.32729397e+01  8.47917968e+01]\n",
            " [ 2.67081566e-02  8.99372254e+01]\n",
            " [ 5.58496434e+01  8.77033748e+01]\n",
            " [ 9.91206725e+01 -2.81215376e+01]\n",
            " [ 9.98999512e+01 -9.28702580e+01]\n",
            " [-6.05903635e+00  9.67954548e+01]\n",
            " [ 2.26102178e+01  9.36101995e+01]\n",
            " [ 9.65275202e+01 -5.85032460e+00]\n",
            " [ 9.87479559e+01  4.30592464e+01]\n",
            " [ 9.01571172e+00  7.97762655e+01]\n",
            " [ 9.61419212e+01  4.74443625e+01]\n",
            " [ 6.57968721e+01  9.97375447e+01]\n",
            " [ 3.06655530e+01  7.69569878e+01]\n",
            " [-4.49930517e+00  8.61940145e+01]\n",
            " [ 6.53881796e+01  8.50780049e+01]\n",
            " [-5.69646459e+01  9.91377146e+01]\n",
            " [ 7.34049738e+01  8.84983056e+01]\n",
            " [ 7.98076995e+01  5.86782707e+01]\n",
            " [-2.50171281e+01  9.73127353e+01]\n",
            " [ 3.52799281e+01  9.10281754e+01]\n",
            " [ 9.99429435e+01 -4.82957044e+01]\n",
            " [ 9.22774880e+01  1.72280703e+01]\n",
            " [ 9.93011870e+01  7.77999101e+01]\n",
            " [ 9.99247525e+01  3.47454178e+01]\n",
            " [ 9.86311558e+01  6.51930105e+01]\n",
            " [ 2.22106218e+01  9.84392970e+01]\n",
            " [ 2.56819674e+00  7.44040141e+01]\n",
            " [-4.49412199e+00  9.28662894e+01]\n",
            " [-2.97582478e+01  7.33851900e+01]\n",
            " [ 3.17160421e+01  6.13491969e+01]\n",
            " [-7.39361644e+01  9.97411075e+01]\n",
            " [ 1.99924898e+00  9.76907110e+01]\n",
            " [ 3.54086905e+01  9.46835936e+01]\n",
            " [ 9.94100733e+01 -2.71871397e+01]\n",
            " [ 9.91361318e+01 -5.45229362e+01]\n",
            " [-3.29673443e-01  9.63990527e+01]\n",
            " [ 9.01232218e+01  3.22178982e+01]\n",
            " [ 9.47709666e+01  1.27320781e+01]\n",
            " [-1.69252692e+01  9.96809482e+01]\n",
            " [ 9.89578942e+01  5.05387445e+01]\n",
            " [ 9.79149816e+01  1.79501057e+01]\n",
            " [ 2.09864585e+00  9.71216181e+01]\n",
            " [ 4.22577123e+01  7.72997788e+01]\n",
            " [ 1.04979689e+01  8.74172629e+01]\n",
            " [ 9.99654430e+01  2.30393368e-01]\n",
            " [ 5.77078204e+01  7.33587898e+01]\n",
            " [ 3.52903352e+01  8.77839790e+01]\n",
            " [ 9.19358731e+01  6.02936174e+01]\n",
            " [-2.49999589e+00  9.55139277e+01]\n",
            " [ 6.72154615e+01  6.11170507e+01]\n",
            " [ 9.99786954e+01 -9.01286731e+01]]\n"
          ],
          "name": "stdout"
        }
      ]
    }
  ]
}