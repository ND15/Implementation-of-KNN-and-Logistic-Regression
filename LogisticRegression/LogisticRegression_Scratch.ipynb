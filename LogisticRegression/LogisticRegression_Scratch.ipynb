{
  "nbformat": 4,
  "nbformat_minor": 0,
  "metadata": {
    "colab": {
      "name": "LogisticRegression_Scratch.ipynb",
      "provenance": [],
      "collapsed_sections": []
    },
    "kernelspec": {
      "name": "python3",
      "display_name": "Python 3"
    },
    "language_info": {
      "name": "python"
    }
  },
  "cells": [
    {
      "cell_type": "code",
      "metadata": {
        "id": "H7hEZIJprcdj"
      },
      "source": [
        "import numpy as np\n",
        "import pandas as pd\n",
        "import matplotlib.pyplot as plt"
      ],
      "execution_count": 1,
      "outputs": []
    },
    {
      "cell_type": "code",
      "metadata": {
        "id": "r0Jl2OqtrkOz"
      },
      "source": [
        "# importing the breast cancer dataset from sklearn\n",
        "\n",
        "from sklearn import datasets\n",
        "dataset = datasets.load_breast_cancer()"
      ],
      "execution_count": 2,
      "outputs": []
    },
    {
      "cell_type": "code",
      "metadata": {
        "colab": {
          "base_uri": "https://localhost:8080/"
        },
        "id": "ruFLUSlUsbJ2",
        "outputId": "fceda167-e204-414b-b992-b810ff57c046"
      },
      "source": [
        "# getting the shapes of the arrays\n",
        "\n",
        "dataset['feature_names'].shape, dataset['data'].shape, dataset['target'].shape"
      ],
      "execution_count": 3,
      "outputs": [
        {
          "output_type": "execute_result",
          "data": {
            "text/plain": [
              "((30,), (569, 30), (569,))"
            ]
          },
          "metadata": {
            "tags": []
          },
          "execution_count": 3
        }
      ]
    },
    {
      "cell_type": "code",
      "metadata": {
        "id": "v_zj3S00rxgG"
      },
      "source": [
        "# separating the data, feature names and target label into different arrays\n",
        "\n",
        "data_array = dataset['data']\n",
        "feature_names = dataset['feature_names']\n",
        "target_array = dataset['target']"
      ],
      "execution_count": 4,
      "outputs": []
    },
    {
      "cell_type": "code",
      "metadata": {
        "colab": {
          "base_uri": "https://localhost:8080/"
        },
        "id": "1GWwFFZrtBAe",
        "outputId": "b3ed8902-4403-48c0-f4f8-a8e907b87912"
      },
      "source": [
        "data_array[:5],target_array[:5]"
      ],
      "execution_count": 5,
      "outputs": [
        {
          "output_type": "execute_result",
          "data": {
            "text/plain": [
              "(array([[1.799e+01, 1.038e+01, 1.228e+02, 1.001e+03, 1.184e-01, 2.776e-01,\n",
              "         3.001e-01, 1.471e-01, 2.419e-01, 7.871e-02, 1.095e+00, 9.053e-01,\n",
              "         8.589e+00, 1.534e+02, 6.399e-03, 4.904e-02, 5.373e-02, 1.587e-02,\n",
              "         3.003e-02, 6.193e-03, 2.538e+01, 1.733e+01, 1.846e+02, 2.019e+03,\n",
              "         1.622e-01, 6.656e-01, 7.119e-01, 2.654e-01, 4.601e-01, 1.189e-01],\n",
              "        [2.057e+01, 1.777e+01, 1.329e+02, 1.326e+03, 8.474e-02, 7.864e-02,\n",
              "         8.690e-02, 7.017e-02, 1.812e-01, 5.667e-02, 5.435e-01, 7.339e-01,\n",
              "         3.398e+00, 7.408e+01, 5.225e-03, 1.308e-02, 1.860e-02, 1.340e-02,\n",
              "         1.389e-02, 3.532e-03, 2.499e+01, 2.341e+01, 1.588e+02, 1.956e+03,\n",
              "         1.238e-01, 1.866e-01, 2.416e-01, 1.860e-01, 2.750e-01, 8.902e-02],\n",
              "        [1.969e+01, 2.125e+01, 1.300e+02, 1.203e+03, 1.096e-01, 1.599e-01,\n",
              "         1.974e-01, 1.279e-01, 2.069e-01, 5.999e-02, 7.456e-01, 7.869e-01,\n",
              "         4.585e+00, 9.403e+01, 6.150e-03, 4.006e-02, 3.832e-02, 2.058e-02,\n",
              "         2.250e-02, 4.571e-03, 2.357e+01, 2.553e+01, 1.525e+02, 1.709e+03,\n",
              "         1.444e-01, 4.245e-01, 4.504e-01, 2.430e-01, 3.613e-01, 8.758e-02],\n",
              "        [1.142e+01, 2.038e+01, 7.758e+01, 3.861e+02, 1.425e-01, 2.839e-01,\n",
              "         2.414e-01, 1.052e-01, 2.597e-01, 9.744e-02, 4.956e-01, 1.156e+00,\n",
              "         3.445e+00, 2.723e+01, 9.110e-03, 7.458e-02, 5.661e-02, 1.867e-02,\n",
              "         5.963e-02, 9.208e-03, 1.491e+01, 2.650e+01, 9.887e+01, 5.677e+02,\n",
              "         2.098e-01, 8.663e-01, 6.869e-01, 2.575e-01, 6.638e-01, 1.730e-01],\n",
              "        [2.029e+01, 1.434e+01, 1.351e+02, 1.297e+03, 1.003e-01, 1.328e-01,\n",
              "         1.980e-01, 1.043e-01, 1.809e-01, 5.883e-02, 7.572e-01, 7.813e-01,\n",
              "         5.438e+00, 9.444e+01, 1.149e-02, 2.461e-02, 5.688e-02, 1.885e-02,\n",
              "         1.756e-02, 5.115e-03, 2.254e+01, 1.667e+01, 1.522e+02, 1.575e+03,\n",
              "         1.374e-01, 2.050e-01, 4.000e-01, 1.625e-01, 2.364e-01, 7.678e-02]]),\n",
              " array([0, 0, 0, 0, 0]))"
            ]
          },
          "metadata": {
            "tags": []
          },
          "execution_count": 5
        }
      ]
    },
    {
      "cell_type": "code",
      "metadata": {
        "colab": {
          "base_uri": "https://localhost:8080/",
          "height": 257
        },
        "id": "c4jpDfPkunR-",
        "outputId": "778e69dd-fda3-4a9b-a414-1139408e3c11"
      },
      "source": [
        "# concatenating the data array and target array to form the pandas dataframe\n",
        "\n",
        "new = np.concatenate((data_array.reshape(len(data_array), data_array.shape[1]), target_array.reshape(len(target_array), 1)), 1)\n",
        "feature_names = np.append(feature_names, 'Target')\n",
        "feature_names = feature_names[:31]\n",
        "\n",
        "\n",
        "framed_data = pd.DataFrame(new, columns=feature_names)\n",
        "framed_data.head()"
      ],
      "execution_count": 6,
      "outputs": [
        {
          "output_type": "execute_result",
          "data": {
            "text/html": [
              "<div>\n",
              "<style scoped>\n",
              "    .dataframe tbody tr th:only-of-type {\n",
              "        vertical-align: middle;\n",
              "    }\n",
              "\n",
              "    .dataframe tbody tr th {\n",
              "        vertical-align: top;\n",
              "    }\n",
              "\n",
              "    .dataframe thead th {\n",
              "        text-align: right;\n",
              "    }\n",
              "</style>\n",
              "<table border=\"1\" class=\"dataframe\">\n",
              "  <thead>\n",
              "    <tr style=\"text-align: right;\">\n",
              "      <th></th>\n",
              "      <th>mean radius</th>\n",
              "      <th>mean texture</th>\n",
              "      <th>mean perimeter</th>\n",
              "      <th>mean area</th>\n",
              "      <th>mean smoothness</th>\n",
              "      <th>mean compactness</th>\n",
              "      <th>mean concavity</th>\n",
              "      <th>mean concave points</th>\n",
              "      <th>mean symmetry</th>\n",
              "      <th>mean fractal dimension</th>\n",
              "      <th>radius error</th>\n",
              "      <th>texture error</th>\n",
              "      <th>perimeter error</th>\n",
              "      <th>area error</th>\n",
              "      <th>smoothness error</th>\n",
              "      <th>compactness error</th>\n",
              "      <th>concavity error</th>\n",
              "      <th>concave points error</th>\n",
              "      <th>symmetry error</th>\n",
              "      <th>fractal dimension error</th>\n",
              "      <th>worst radius</th>\n",
              "      <th>worst texture</th>\n",
              "      <th>worst perimeter</th>\n",
              "      <th>worst area</th>\n",
              "      <th>worst smoothness</th>\n",
              "      <th>worst compactness</th>\n",
              "      <th>worst concavity</th>\n",
              "      <th>worst concave points</th>\n",
              "      <th>worst symmetry</th>\n",
              "      <th>worst fractal dimension</th>\n",
              "      <th>Target</th>\n",
              "    </tr>\n",
              "  </thead>\n",
              "  <tbody>\n",
              "    <tr>\n",
              "      <th>0</th>\n",
              "      <td>17.99</td>\n",
              "      <td>10.38</td>\n",
              "      <td>122.80</td>\n",
              "      <td>1001.0</td>\n",
              "      <td>0.11840</td>\n",
              "      <td>0.27760</td>\n",
              "      <td>0.3001</td>\n",
              "      <td>0.14710</td>\n",
              "      <td>0.2419</td>\n",
              "      <td>0.07871</td>\n",
              "      <td>1.0950</td>\n",
              "      <td>0.9053</td>\n",
              "      <td>8.589</td>\n",
              "      <td>153.40</td>\n",
              "      <td>0.006399</td>\n",
              "      <td>0.04904</td>\n",
              "      <td>0.05373</td>\n",
              "      <td>0.01587</td>\n",
              "      <td>0.03003</td>\n",
              "      <td>0.006193</td>\n",
              "      <td>25.38</td>\n",
              "      <td>17.33</td>\n",
              "      <td>184.60</td>\n",
              "      <td>2019.0</td>\n",
              "      <td>0.1622</td>\n",
              "      <td>0.6656</td>\n",
              "      <td>0.7119</td>\n",
              "      <td>0.2654</td>\n",
              "      <td>0.4601</td>\n",
              "      <td>0.11890</td>\n",
              "      <td>0.0</td>\n",
              "    </tr>\n",
              "    <tr>\n",
              "      <th>1</th>\n",
              "      <td>20.57</td>\n",
              "      <td>17.77</td>\n",
              "      <td>132.90</td>\n",
              "      <td>1326.0</td>\n",
              "      <td>0.08474</td>\n",
              "      <td>0.07864</td>\n",
              "      <td>0.0869</td>\n",
              "      <td>0.07017</td>\n",
              "      <td>0.1812</td>\n",
              "      <td>0.05667</td>\n",
              "      <td>0.5435</td>\n",
              "      <td>0.7339</td>\n",
              "      <td>3.398</td>\n",
              "      <td>74.08</td>\n",
              "      <td>0.005225</td>\n",
              "      <td>0.01308</td>\n",
              "      <td>0.01860</td>\n",
              "      <td>0.01340</td>\n",
              "      <td>0.01389</td>\n",
              "      <td>0.003532</td>\n",
              "      <td>24.99</td>\n",
              "      <td>23.41</td>\n",
              "      <td>158.80</td>\n",
              "      <td>1956.0</td>\n",
              "      <td>0.1238</td>\n",
              "      <td>0.1866</td>\n",
              "      <td>0.2416</td>\n",
              "      <td>0.1860</td>\n",
              "      <td>0.2750</td>\n",
              "      <td>0.08902</td>\n",
              "      <td>0.0</td>\n",
              "    </tr>\n",
              "    <tr>\n",
              "      <th>2</th>\n",
              "      <td>19.69</td>\n",
              "      <td>21.25</td>\n",
              "      <td>130.00</td>\n",
              "      <td>1203.0</td>\n",
              "      <td>0.10960</td>\n",
              "      <td>0.15990</td>\n",
              "      <td>0.1974</td>\n",
              "      <td>0.12790</td>\n",
              "      <td>0.2069</td>\n",
              "      <td>0.05999</td>\n",
              "      <td>0.7456</td>\n",
              "      <td>0.7869</td>\n",
              "      <td>4.585</td>\n",
              "      <td>94.03</td>\n",
              "      <td>0.006150</td>\n",
              "      <td>0.04006</td>\n",
              "      <td>0.03832</td>\n",
              "      <td>0.02058</td>\n",
              "      <td>0.02250</td>\n",
              "      <td>0.004571</td>\n",
              "      <td>23.57</td>\n",
              "      <td>25.53</td>\n",
              "      <td>152.50</td>\n",
              "      <td>1709.0</td>\n",
              "      <td>0.1444</td>\n",
              "      <td>0.4245</td>\n",
              "      <td>0.4504</td>\n",
              "      <td>0.2430</td>\n",
              "      <td>0.3613</td>\n",
              "      <td>0.08758</td>\n",
              "      <td>0.0</td>\n",
              "    </tr>\n",
              "    <tr>\n",
              "      <th>3</th>\n",
              "      <td>11.42</td>\n",
              "      <td>20.38</td>\n",
              "      <td>77.58</td>\n",
              "      <td>386.1</td>\n",
              "      <td>0.14250</td>\n",
              "      <td>0.28390</td>\n",
              "      <td>0.2414</td>\n",
              "      <td>0.10520</td>\n",
              "      <td>0.2597</td>\n",
              "      <td>0.09744</td>\n",
              "      <td>0.4956</td>\n",
              "      <td>1.1560</td>\n",
              "      <td>3.445</td>\n",
              "      <td>27.23</td>\n",
              "      <td>0.009110</td>\n",
              "      <td>0.07458</td>\n",
              "      <td>0.05661</td>\n",
              "      <td>0.01867</td>\n",
              "      <td>0.05963</td>\n",
              "      <td>0.009208</td>\n",
              "      <td>14.91</td>\n",
              "      <td>26.50</td>\n",
              "      <td>98.87</td>\n",
              "      <td>567.7</td>\n",
              "      <td>0.2098</td>\n",
              "      <td>0.8663</td>\n",
              "      <td>0.6869</td>\n",
              "      <td>0.2575</td>\n",
              "      <td>0.6638</td>\n",
              "      <td>0.17300</td>\n",
              "      <td>0.0</td>\n",
              "    </tr>\n",
              "    <tr>\n",
              "      <th>4</th>\n",
              "      <td>20.29</td>\n",
              "      <td>14.34</td>\n",
              "      <td>135.10</td>\n",
              "      <td>1297.0</td>\n",
              "      <td>0.10030</td>\n",
              "      <td>0.13280</td>\n",
              "      <td>0.1980</td>\n",
              "      <td>0.10430</td>\n",
              "      <td>0.1809</td>\n",
              "      <td>0.05883</td>\n",
              "      <td>0.7572</td>\n",
              "      <td>0.7813</td>\n",
              "      <td>5.438</td>\n",
              "      <td>94.44</td>\n",
              "      <td>0.011490</td>\n",
              "      <td>0.02461</td>\n",
              "      <td>0.05688</td>\n",
              "      <td>0.01885</td>\n",
              "      <td>0.01756</td>\n",
              "      <td>0.005115</td>\n",
              "      <td>22.54</td>\n",
              "      <td>16.67</td>\n",
              "      <td>152.20</td>\n",
              "      <td>1575.0</td>\n",
              "      <td>0.1374</td>\n",
              "      <td>0.2050</td>\n",
              "      <td>0.4000</td>\n",
              "      <td>0.1625</td>\n",
              "      <td>0.2364</td>\n",
              "      <td>0.07678</td>\n",
              "      <td>0.0</td>\n",
              "    </tr>\n",
              "  </tbody>\n",
              "</table>\n",
              "</div>"
            ],
            "text/plain": [
              "   mean radius  mean texture  ...  worst fractal dimension  Target\n",
              "0        17.99         10.38  ...                  0.11890     0.0\n",
              "1        20.57         17.77  ...                  0.08902     0.0\n",
              "2        19.69         21.25  ...                  0.08758     0.0\n",
              "3        11.42         20.38  ...                  0.17300     0.0\n",
              "4        20.29         14.34  ...                  0.07678     0.0\n",
              "\n",
              "[5 rows x 31 columns]"
            ]
          },
          "metadata": {
            "tags": []
          },
          "execution_count": 6
        }
      ]
    },
    {
      "cell_type": "code",
      "metadata": {
        "colab": {
          "base_uri": "https://localhost:8080/"
        },
        "id": "z9xIK2-MOwz6",
        "outputId": "c61682e3-c0b2-46d5-e2db-1c2acb4e6c6b"
      },
      "source": [
        "# checking for missing values using info() and isnull()\n",
        "framed_data.info(), framed_data.isnull().sum()"
      ],
      "execution_count": 7,
      "outputs": [
        {
          "output_type": "stream",
          "text": [
            "<class 'pandas.core.frame.DataFrame'>\n",
            "RangeIndex: 569 entries, 0 to 568\n",
            "Data columns (total 31 columns):\n",
            " #   Column                   Non-Null Count  Dtype  \n",
            "---  ------                   --------------  -----  \n",
            " 0   mean radius              569 non-null    float64\n",
            " 1   mean texture             569 non-null    float64\n",
            " 2   mean perimeter           569 non-null    float64\n",
            " 3   mean area                569 non-null    float64\n",
            " 4   mean smoothness          569 non-null    float64\n",
            " 5   mean compactness         569 non-null    float64\n",
            " 6   mean concavity           569 non-null    float64\n",
            " 7   mean concave points      569 non-null    float64\n",
            " 8   mean symmetry            569 non-null    float64\n",
            " 9   mean fractal dimension   569 non-null    float64\n",
            " 10  radius error             569 non-null    float64\n",
            " 11  texture error            569 non-null    float64\n",
            " 12  perimeter error          569 non-null    float64\n",
            " 13  area error               569 non-null    float64\n",
            " 14  smoothness error         569 non-null    float64\n",
            " 15  compactness error        569 non-null    float64\n",
            " 16  concavity error          569 non-null    float64\n",
            " 17  concave points error     569 non-null    float64\n",
            " 18  symmetry error           569 non-null    float64\n",
            " 19  fractal dimension error  569 non-null    float64\n",
            " 20  worst radius             569 non-null    float64\n",
            " 21  worst texture            569 non-null    float64\n",
            " 22  worst perimeter          569 non-null    float64\n",
            " 23  worst area               569 non-null    float64\n",
            " 24  worst smoothness         569 non-null    float64\n",
            " 25  worst compactness        569 non-null    float64\n",
            " 26  worst concavity          569 non-null    float64\n",
            " 27  worst concave points     569 non-null    float64\n",
            " 28  worst symmetry           569 non-null    float64\n",
            " 29  worst fractal dimension  569 non-null    float64\n",
            " 30  Target                   569 non-null    float64\n",
            "dtypes: float64(31)\n",
            "memory usage: 137.9 KB\n"
          ],
          "name": "stdout"
        },
        {
          "output_type": "execute_result",
          "data": {
            "text/plain": [
              "(None, mean radius                0\n",
              " mean texture               0\n",
              " mean perimeter             0\n",
              " mean area                  0\n",
              " mean smoothness            0\n",
              " mean compactness           0\n",
              " mean concavity             0\n",
              " mean concave points        0\n",
              " mean symmetry              0\n",
              " mean fractal dimension     0\n",
              " radius error               0\n",
              " texture error              0\n",
              " perimeter error            0\n",
              " area error                 0\n",
              " smoothness error           0\n",
              " compactness error          0\n",
              " concavity error            0\n",
              " concave points error       0\n",
              " symmetry error             0\n",
              " fractal dimension error    0\n",
              " worst radius               0\n",
              " worst texture              0\n",
              " worst perimeter            0\n",
              " worst area                 0\n",
              " worst smoothness           0\n",
              " worst compactness          0\n",
              " worst concavity            0\n",
              " worst concave points       0\n",
              " worst symmetry             0\n",
              " worst fractal dimension    0\n",
              " Target                     0\n",
              " dtype: int64)"
            ]
          },
          "metadata": {
            "tags": []
          },
          "execution_count": 7
        }
      ]
    },
    {
      "cell_type": "code",
      "metadata": {
        "id": "ci_7xopy4E9P"
      },
      "source": [
        "def one_hot(y):\n",
        "  n = y.max() + 1\n",
        "  m = len(y)\n",
        "  one_hot = np.zeros((m, n))\n",
        "  one_hot[np.arange(m), y] = 1\n",
        "  return one_hot"
      ],
      "execution_count": 8,
      "outputs": []
    },
    {
      "cell_type": "code",
      "metadata": {
        "id": "nvn3048z5L76"
      },
      "source": [
        "from sklearn.model_selection import train_test_split\n",
        "X_train, X_test, y_train, y_test = train_test_split(data_array, target_array, test_size=0.2,random_state=42)"
      ],
      "execution_count": 9,
      "outputs": []
    },
    {
      "cell_type": "code",
      "metadata": {
        "colab": {
          "base_uri": "https://localhost:8080/"
        },
        "id": "0mfvmitQGkr3",
        "outputId": "0b4e9efb-9e30-4ac5-ea49-fee35c469cf7"
      },
      "source": [
        "one_hot(y_train[:10]), y_train[:10]"
      ],
      "execution_count": 10,
      "outputs": [
        {
          "output_type": "execute_result",
          "data": {
            "text/plain": [
              "(array([[0., 1.],\n",
              "        [1., 0.],\n",
              "        [0., 1.],\n",
              "        [0., 1.],\n",
              "        [0., 1.],\n",
              "        [1., 0.],\n",
              "        [0., 1.],\n",
              "        [0., 1.],\n",
              "        [0., 1.],\n",
              "        [1., 0.]]), array([1, 0, 1, 1, 1, 0, 1, 1, 1, 0]))"
            ]
          },
          "metadata": {
            "tags": []
          },
          "execution_count": 10
        }
      ]
    },
    {
      "cell_type": "code",
      "metadata": {
        "id": "c8f7vweYJxHM"
      },
      "source": [
        "from sklearn.preprocessing import StandardScaler\n",
        "sc = StandardScaler()\n",
        "X_train = sc.fit_transform(X_train)\n",
        "X_test = sc.transform(X_test)"
      ],
      "execution_count": 11,
      "outputs": []
    },
    {
      "cell_type": "code",
      "metadata": {
        "colab": {
          "base_uri": "https://localhost:8080/"
        },
        "id": "fnoTyDuu5fUq",
        "outputId": "be1834e1-a247-410f-cfc2-4fc0fe0a17cb"
      },
      "source": [
        "X_train.shape, y_train.shape"
      ],
      "execution_count": 12,
      "outputs": [
        {
          "output_type": "execute_result",
          "data": {
            "text/plain": [
              "((455, 30), (455,))"
            ]
          },
          "metadata": {
            "tags": []
          },
          "execution_count": 12
        }
      ]
    },
    {
      "cell_type": "code",
      "metadata": {
        "id": "E6xe6UNo6GHs"
      },
      "source": [
        "y_train_one_hot = one_hot(y_train)\n",
        "y_test_one_hot = one_hot(y_train)"
      ],
      "execution_count": 13,
      "outputs": []
    },
    {
      "cell_type": "code",
      "metadata": {
        "id": "tLncPMo0Ev93"
      },
      "source": [
        "# activation functions\n",
        "\n",
        "def sigmoid(z):\n",
        "  deno = 1 + np.exp(-z)\n",
        "  return 1 / deno\n",
        "\n",
        "def softmax(z):\n",
        "  exps = np.exp(z)\n",
        "  sum_exp = np.sum(exps, axis=1, keepdims=True)\n",
        "  return exps / sum_exp\n",
        "\n",
        "def tanh(z):\n",
        "  pos_exp = np.exp(z)\n",
        "  neg_exp = np.exp(-z)\n",
        "  num = pos_exp - neg_exp\n",
        "  deno = pos_exp + neg_exp\n",
        "  return num / deno"
      ],
      "execution_count": 14,
      "outputs": []
    },
    {
      "cell_type": "markdown",
      "metadata": {
        "id": "Gxg0hTAhJorX"
      },
      "source": [
        "# Logistic Regression Class"
      ]
    },
    {
      "cell_type": "code",
      "metadata": {
        "id": "2iWMRHix6OkJ"
      },
      "source": [
        "class LogisticRegression:\n",
        "  \"\"\"Class for the implementation of Logistic Regression\"\"\"\n",
        "  \n",
        "  def __init__(self, alpha=0.1, n_iterations=1000, activation_function=None):\n",
        "    self.activation_function = activation_function\n",
        "    self.alpha = alpha\n",
        "    self.n_iterations = n_iterations\n",
        "\n",
        "  def gradient_descent(self, X, y):\n",
        "    m = len(X)\n",
        "    features = X.shape[1]\n",
        "    outputs = len(y[1])\n",
        "\n",
        "    theta = np.random.randn(features, outputs)\n",
        "\n",
        "    for iteration in range(self.n_iterations):\n",
        "      if (self.activation_function == 'sigmoid'):\n",
        "        y_prob = sigmoid(X.dot(theta))\n",
        "\n",
        "      elif (self.activation_function == 'softmax'):\n",
        "        y_prob = softmax(X.dot(theta))\n",
        "\n",
        "      elif (self.activation_function == 'tanh'):\n",
        "        y_prob = tanh(X.dot(theta))\n",
        "\n",
        "      gradients = 1/m * X.T.dot(y_prob - y)\n",
        "      theta = theta - self.alpha * gradients\n",
        "    \n",
        "    return theta\n",
        "\n",
        "  def fit(self, X, y):\n",
        "    X_new = np.c_[np.ones((len(X), 1)), X]\n",
        "    self.theta = self.gradient_descent(X_new, y)\n",
        "\n",
        "\n",
        "  def main_predict(self, X):\n",
        "    X_new = np.c_[np.ones((len(X), 1)), X]\n",
        "    if (self.activation_function == 'sigmoid'):\n",
        "      y_prob = sigmoid(X_new.dot(self.theta))\n",
        "\n",
        "    elif (self.activation_function == 'softmax'):\n",
        "      y_prob = softmax(X_new.dot(self.theta))\n",
        "\n",
        "    elif (self.activation_function == 'tanh'):\n",
        "      y_prob = tanh(X_new.dot(self.theta))\n",
        "\n",
        "    return y_prob\n",
        "\n",
        "  def predict(self, X):\n",
        "    self.prob = self.main_predict(X)\n",
        "\n",
        "    y_pred = np.argmax(self.prob, axis=1)\n",
        "    return y_pred\n",
        "\n",
        "  def predict_proba(self, X):\n",
        "    self.prob = self.main_predict(X)\n",
        "\n",
        "    # zero for negative percentages\n",
        "    # y_proba = np.array(list(map(lambda x: [max(x[0],0), max(x[1], 0)], self.prob)))\n",
        "    y_proba = self.prob * 100\n",
        "    return y_proba\n"
      ],
      "execution_count": 15,
      "outputs": []
    },
    {
      "cell_type": "markdown",
      "metadata": {
        "id": "IS6socJeJNuw"
      },
      "source": [
        "# Sigmoid"
      ]
    },
    {
      "cell_type": "code",
      "metadata": {
        "id": "pGZ__UOc_RcY"
      },
      "source": [
        "# sigmoid\n",
        "log_reg = LogisticRegression(alpha=0.01, n_iterations=1000,activation_function='sigmoid')\n",
        "log_reg.fit(X_train, y_train_one_hot)"
      ],
      "execution_count": 16,
      "outputs": []
    },
    {
      "cell_type": "code",
      "metadata": {
        "id": "n1_1Xts4CkUW"
      },
      "source": [
        "y_pred = log_reg.predict(X_test)"
      ],
      "execution_count": 17,
      "outputs": []
    },
    {
      "cell_type": "code",
      "metadata": {
        "colab": {
          "base_uri": "https://localhost:8080/"
        },
        "id": "YU3S_HMkC7uG",
        "outputId": "e0833829-a1bf-45dd-e1d2-be513063393a"
      },
      "source": [
        "y_pred.shape, y_test.shape"
      ],
      "execution_count": 18,
      "outputs": [
        {
          "output_type": "execute_result",
          "data": {
            "text/plain": [
              "((114,), (114,))"
            ]
          },
          "metadata": {
            "tags": []
          },
          "execution_count": 18
        }
      ]
    },
    {
      "cell_type": "code",
      "metadata": {
        "colab": {
          "base_uri": "https://localhost:8080/"
        },
        "id": "DFCYhWMhMGV7",
        "outputId": "f597c1ed-166e-4d34-83a1-249283e767ff"
      },
      "source": [
        "np.concatenate((y_pred.reshape(len(y_pred),1), y_test.reshape(len(y_test),1)) ,1)"
      ],
      "execution_count": 19,
      "outputs": [
        {
          "output_type": "execute_result",
          "data": {
            "text/plain": [
              "array([[1, 1],\n",
              "       [0, 0],\n",
              "       [0, 0],\n",
              "       [1, 1],\n",
              "       [1, 1],\n",
              "       [0, 0],\n",
              "       [0, 0],\n",
              "       [0, 0],\n",
              "       [0, 1],\n",
              "       [1, 1],\n",
              "       [1, 1],\n",
              "       [0, 0],\n",
              "       [1, 1],\n",
              "       [1, 0],\n",
              "       [1, 1],\n",
              "       [0, 0],\n",
              "       [1, 1],\n",
              "       [1, 1],\n",
              "       [1, 1],\n",
              "       [0, 0],\n",
              "       [0, 0],\n",
              "       [1, 1],\n",
              "       [0, 0],\n",
              "       [1, 1],\n",
              "       [1, 1],\n",
              "       [1, 1],\n",
              "       [1, 1],\n",
              "       [1, 1],\n",
              "       [1, 1],\n",
              "       [0, 0],\n",
              "       [1, 1],\n",
              "       [1, 1],\n",
              "       [1, 1],\n",
              "       [1, 1],\n",
              "       [1, 1],\n",
              "       [1, 1],\n",
              "       [0, 0],\n",
              "       [1, 1],\n",
              "       [0, 0],\n",
              "       [1, 1],\n",
              "       [1, 1],\n",
              "       [0, 0],\n",
              "       [1, 1],\n",
              "       [1, 1],\n",
              "       [1, 1],\n",
              "       [1, 1],\n",
              "       [1, 1],\n",
              "       [1, 1],\n",
              "       [1, 1],\n",
              "       [1, 1],\n",
              "       [0, 0],\n",
              "       [0, 0],\n",
              "       [1, 1],\n",
              "       [0, 1],\n",
              "       [1, 1],\n",
              "       [1, 1],\n",
              "       [1, 1],\n",
              "       [0, 0],\n",
              "       [0, 0],\n",
              "       [1, 1],\n",
              "       [1, 1],\n",
              "       [0, 0],\n",
              "       [0, 0],\n",
              "       [1, 1],\n",
              "       [1, 1],\n",
              "       [0, 1],\n",
              "       [0, 0],\n",
              "       [0, 0],\n",
              "       [1, 1],\n",
              "       [1, 1],\n",
              "       [0, 0],\n",
              "       [0, 0],\n",
              "       [1, 1],\n",
              "       [0, 0],\n",
              "       [1, 1],\n",
              "       [1, 1],\n",
              "       [1, 1],\n",
              "       [0, 0],\n",
              "       [1, 1],\n",
              "       [1, 1],\n",
              "       [0, 0],\n",
              "       [1, 1],\n",
              "       [0, 0],\n",
              "       [0, 0],\n",
              "       [0, 0],\n",
              "       [0, 0],\n",
              "       [0, 0],\n",
              "       [0, 0],\n",
              "       [1, 1],\n",
              "       [1, 1],\n",
              "       [1, 1],\n",
              "       [0, 1],\n",
              "       [1, 1],\n",
              "       [1, 1],\n",
              "       [1, 1],\n",
              "       [1, 1],\n",
              "       [0, 0],\n",
              "       [0, 0],\n",
              "       [1, 1],\n",
              "       [0, 0],\n",
              "       [0, 0],\n",
              "       [1, 1],\n",
              "       [0, 0],\n",
              "       [0, 0],\n",
              "       [1, 1],\n",
              "       [1, 1],\n",
              "       [1, 1],\n",
              "       [0, 0],\n",
              "       [0, 1],\n",
              "       [1, 1],\n",
              "       [0, 0],\n",
              "       [1, 1],\n",
              "       [0, 1],\n",
              "       [0, 0]])"
            ]
          },
          "metadata": {
            "tags": []
          },
          "execution_count": 19
        }
      ]
    },
    {
      "cell_type": "code",
      "metadata": {
        "colab": {
          "base_uri": "https://localhost:8080/"
        },
        "id": "sPcQzCF1C3IG",
        "outputId": "f3c5f964-34f3-4f43-ea55-3cfe6a76d00e"
      },
      "source": [
        "from sklearn.metrics import accuracy_score\n",
        "accuracy_score(y_test, y_pred)"
      ],
      "execution_count": 20,
      "outputs": [
        {
          "output_type": "execute_result",
          "data": {
            "text/plain": [
              "0.9385964912280702"
            ]
          },
          "metadata": {
            "tags": []
          },
          "execution_count": 20
        }
      ]
    },
    {
      "cell_type": "markdown",
      "metadata": {
        "id": "HUClx_edJRNB"
      },
      "source": [
        "# Softmax"
      ]
    },
    {
      "cell_type": "code",
      "metadata": {
        "id": "9lIPPa2TMsyb"
      },
      "source": [
        "log_reg1 = LogisticRegression(alpha=0.1, n_iterations=1000,activation_function='softmax')\n",
        "log_reg1.fit(X_train, y_train_one_hot)"
      ],
      "execution_count": 21,
      "outputs": []
    },
    {
      "cell_type": "code",
      "metadata": {
        "id": "JiBR2VcMMvAz"
      },
      "source": [
        "y_pred2 = log_reg1.predict(X_test)"
      ],
      "execution_count": 22,
      "outputs": []
    },
    {
      "cell_type": "code",
      "metadata": {
        "colab": {
          "base_uri": "https://localhost:8080/"
        },
        "id": "A6BbXBTqNMCy",
        "outputId": "39b7e97c-653d-4e0a-bb40-beb2eafbe3d1"
      },
      "source": [
        "from sklearn.metrics import accuracy_score\n",
        "accuracy_score(y_test, y_pred2)"
      ],
      "execution_count": 23,
      "outputs": [
        {
          "output_type": "execute_result",
          "data": {
            "text/plain": [
              "0.9824561403508771"
            ]
          },
          "metadata": {
            "tags": []
          },
          "execution_count": 23
        }
      ]
    },
    {
      "cell_type": "markdown",
      "metadata": {
        "id": "ztrBoqaZJUv_"
      },
      "source": [
        "# Tanh"
      ]
    },
    {
      "cell_type": "code",
      "metadata": {
        "id": "dMz2IafxZLx2"
      },
      "source": [
        "log_reg1 = LogisticRegression(alpha=0.01, n_iterations=2000,activation_function='tanh')\n",
        "log_reg1.fit(X_train, y_train_one_hot)"
      ],
      "execution_count": 24,
      "outputs": []
    },
    {
      "cell_type": "code",
      "metadata": {
        "id": "aV5Zz1wXZOyW"
      },
      "source": [
        "y_pred3 = log_reg1.predict(X_test)"
      ],
      "execution_count": 25,
      "outputs": []
    },
    {
      "cell_type": "code",
      "metadata": {
        "colab": {
          "base_uri": "https://localhost:8080/"
        },
        "id": "vRVqCM49ZUcH",
        "outputId": "0937172b-5bb2-4ba5-c16b-8dc0866cc30f"
      },
      "source": [
        "from sklearn.metrics import accuracy_score\n",
        "accuracy_score(y_test, y_pred3)"
      ],
      "execution_count": 26,
      "outputs": [
        {
          "output_type": "execute_result",
          "data": {
            "text/plain": [
              "0.9473684210526315"
            ]
          },
          "metadata": {
            "tags": []
          },
          "execution_count": 26
        }
      ]
    },
    {
      "cell_type": "markdown",
      "metadata": {
        "id": "LiNewbcUJX8w"
      },
      "source": [
        "## Percentage"
      ]
    },
    {
      "cell_type": "code",
      "metadata": {
        "id": "CyRSagHFF0gk"
      },
      "source": [
        "log_reg2 = LogisticRegression(alpha=0.01, n_iterations=2000,activation_function='tanh')\n",
        "log_reg2.fit(X_train, y_train_one_hot)"
      ],
      "execution_count": 27,
      "outputs": []
    },
    {
      "cell_type": "code",
      "metadata": {
        "colab": {
          "base_uri": "https://localhost:8080/"
        },
        "id": "396OFtgiGEwu",
        "outputId": "8305e622-c54d-46fc-d85b-f10b0cb4f822"
      },
      "source": [
        "# percentage of probability\n",
        "\n",
        "print(log_reg2.predict_proba(X_test))"
      ],
      "execution_count": 28,
      "outputs": [
        {
          "output_type": "stream",
          "text": [
            "[[ 55.50545091  90.84370624]\n",
            " [ 99.04664479 -24.85042542]\n",
            " [ 96.42221863   1.95142176]\n",
            " [-15.87682101  99.31014848]\n",
            " [ -9.14940439  99.89388679]\n",
            " [ 99.99358021 -65.4789313 ]\n",
            " [ 99.99564281 -69.57164034]\n",
            " [ 96.7153118   58.35253504]\n",
            " [ 63.52144313  70.90202669]\n",
            " [ -3.94657452  99.12160189]\n",
            " [  1.18503427  79.02402297]\n",
            " [ 87.93518286  73.29910172]\n",
            " [-36.04888179  91.69361107]\n",
            " [ 99.47954584  88.15881759]\n",
            " [ 14.41094744  94.37154278]\n",
            " [ 99.96106255  34.4007585 ]\n",
            " [  2.10221433  97.6463227 ]\n",
            " [  0.79941487  99.96617557]\n",
            " [-47.93273087  99.95118881]\n",
            " [ 99.8998033  -41.16803381]\n",
            " [ 75.66147706  84.36065056]\n",
            " [ 25.66567514  96.35188295]\n",
            " [ 99.94342764 -66.82710442]\n",
            " [-11.20999048  99.54492527]\n",
            " [ 39.24003533  98.9030499 ]\n",
            " [ 92.17907412  99.8249208 ]\n",
            " [-17.38246774  93.71622458]\n",
            " [-21.06365373  96.94678665]\n",
            " [-26.00984267  91.25128686]\n",
            " [ 96.28057293   2.75596046]\n",
            " [ 10.45627071  85.42674108]\n",
            " [ -9.98763059  98.41652482]\n",
            " [ 42.36251975  99.79209149]\n",
            " [ 28.81947563  93.0379048 ]\n",
            " [-25.27654115  97.95198111]\n",
            " [ 22.86900043  96.79415287]\n",
            " [ 30.30312212  82.34606956]\n",
            " [ -6.13811492  98.69272658]\n",
            " [ 96.32228015  -5.41347201]\n",
            " [ 30.33483356  75.4517696 ]\n",
            " [-16.85493679  98.40819722]\n",
            " [ 97.20676313  22.19966549]\n",
            " [  7.01650602  54.52174549]\n",
            " [ -4.78286465  93.86863544]\n",
            " [ 83.51954388  98.13148478]\n",
            " [ 56.84989982  88.98459033]\n",
            " [-63.50662081  97.55072239]\n",
            " [ 59.4946635   99.99201682]\n",
            " [ -4.27215509  66.96420198]\n",
            " [ 15.61648788  98.67724344]\n",
            " [ 96.13602594 -64.98090488]\n",
            " [ 99.95881796 -26.22430164]\n",
            " [ 76.38435702  77.72710839]\n",
            " [ 20.75939081  92.73383204]\n",
            " [  7.13874641  98.90588432]\n",
            " [ 59.80745739  89.81203886]\n",
            " [ 30.14957905  98.86860503]\n",
            " [ 99.99480527 -59.81713318]\n",
            " [ 93.87223784  25.74711261]\n",
            " [ -3.08071929  96.04047565]\n",
            " [-36.70186268  92.18068827]\n",
            " [ 99.89765737 -87.29261657]\n",
            " [ 99.99526397   2.21584822]\n",
            " [ 49.77334978  91.48995761]\n",
            " [-42.09129462  99.50400398]\n",
            " [ 16.27348653  94.01674546]\n",
            " [ 99.38462647  32.45655458]\n",
            " [ 99.98476434 -82.96932283]\n",
            " [-41.75710314  98.07591629]\n",
            " [ 41.07044621  85.27444463]\n",
            " [ 93.65401485  94.14882967]\n",
            " [ 93.25913916  52.25523428]\n",
            " [ 15.4317454   98.67959199]\n",
            " [ 93.77239484  60.79520796]\n",
            " [ 21.060811    99.9889229 ]\n",
            " [ 62.09974081  82.33436959]\n",
            " [-30.02884053  96.75223251]\n",
            " [ 75.00967892  17.27006524]\n",
            " [-22.67784244  99.79144045]\n",
            " [ 59.84563798  79.07540654]\n",
            " [ 84.31553372  43.73864889]\n",
            " [-31.99107065  99.61122544]\n",
            " [ 78.61568477  96.18552817]\n",
            " [ 99.97273284 -62.67378096]\n",
            " [ 66.26738563  59.40848701]\n",
            " [ 99.86523224  59.69508115]\n",
            " [ 35.34395322  93.27886299]\n",
            " [ 99.74455536  86.92747018]\n",
            " [-44.70525854  98.87922636]\n",
            " [ 19.9187141   86.12176518]\n",
            " [-17.73540575  97.18194586]\n",
            " [ 52.61882493  -0.47003892]\n",
            " [ 71.9565821   92.67393378]\n",
            " [ 57.06223869  99.98553452]\n",
            " [-20.39363847  99.73991379]\n",
            " [ 22.6788074   99.88966175]\n",
            " [ 99.37733288   7.40461759]\n",
            " [ 98.94743116 -92.26768061]\n",
            " [ -3.24614213  98.97555801]\n",
            " [ 85.32925787  26.95372262]\n",
            " [ 68.01417019  15.04662798]\n",
            " [-17.85756127  99.77642951]\n",
            " [ 99.92781936 -23.75348136]\n",
            " [ 98.47920453 -10.67936852]\n",
            " [ 55.52219929  99.20553613]\n",
            " [ 31.48355158  93.4677733 ]\n",
            " [ 42.47827602  99.08322569]\n",
            " [ 99.90263388 -51.70953502]\n",
            " [ 71.01329654  78.12249199]\n",
            " [-18.05671797  93.86818686]\n",
            " [ 97.75156183  39.91999303]\n",
            " [-10.1362454   95.08479721]\n",
            " [ 64.24508684  98.59083624]\n",
            " [ 99.446618   -86.42471662]]\n"
          ],
          "name": "stdout"
        }
      ]
    }
  ]
}