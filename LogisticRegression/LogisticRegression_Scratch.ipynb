{
  "nbformat": 4,
  "nbformat_minor": 0,
  "metadata": {
    "colab": {
      "name": "LogisticRegression_Scratch.ipynb",
      "provenance": [],
      "collapsed_sections": []
    },
    "kernelspec": {
      "name": "python3",
      "display_name": "Python 3"
    },
    "language_info": {
      "name": "python"
    }
  },
  "cells": [
    {
      "cell_type": "code",
      "metadata": {
        "id": "H7hEZIJprcdj"
      },
      "source": [
        "import numpy as np\n",
        "import pandas as pd\n",
        "import matplotlib.pyplot as plt"
      ],
      "execution_count": 117,
      "outputs": []
    },
    {
      "cell_type": "code",
      "metadata": {
        "id": "r0Jl2OqtrkOz"
      },
      "source": [
        "# importing the breast cancer dataset from sklearn\n",
        "\n",
        "from sklearn import datasets\n",
        "dataset = datasets.load_breast_cancer()"
      ],
      "execution_count": 118,
      "outputs": []
    },
    {
      "cell_type": "code",
      "metadata": {
        "colab": {
          "base_uri": "https://localhost:8080/"
        },
        "id": "ruFLUSlUsbJ2",
        "outputId": "29836285-ea6b-42f4-9dba-5e4e2c043c2c"
      },
      "source": [
        "# getting the shapes of the arrays\n",
        "\n",
        "dataset['feature_names'].shape, dataset['data'].shape, dataset['target'].shape"
      ],
      "execution_count": 119,
      "outputs": [
        {
          "output_type": "execute_result",
          "data": {
            "text/plain": [
              "((30,), (569, 30), (569,))"
            ]
          },
          "metadata": {
            "tags": []
          },
          "execution_count": 119
        }
      ]
    },
    {
      "cell_type": "code",
      "metadata": {
        "id": "v_zj3S00rxgG"
      },
      "source": [
        "# separating the data, feature names and target label into different arrays\n",
        "\n",
        "data_array = dataset['data']\n",
        "feature_names = dataset['feature_names']\n",
        "target_array = dataset['target']"
      ],
      "execution_count": 120,
      "outputs": []
    },
    {
      "cell_type": "code",
      "metadata": {
        "colab": {
          "base_uri": "https://localhost:8080/"
        },
        "id": "1GWwFFZrtBAe",
        "outputId": "767248ac-acae-4f75-b658-d9cd84f388d8"
      },
      "source": [
        "data_array[:5],target_array[:5]"
      ],
      "execution_count": 121,
      "outputs": [
        {
          "output_type": "execute_result",
          "data": {
            "text/plain": [
              "(array([[1.799e+01, 1.038e+01, 1.228e+02, 1.001e+03, 1.184e-01, 2.776e-01,\n",
              "         3.001e-01, 1.471e-01, 2.419e-01, 7.871e-02, 1.095e+00, 9.053e-01,\n",
              "         8.589e+00, 1.534e+02, 6.399e-03, 4.904e-02, 5.373e-02, 1.587e-02,\n",
              "         3.003e-02, 6.193e-03, 2.538e+01, 1.733e+01, 1.846e+02, 2.019e+03,\n",
              "         1.622e-01, 6.656e-01, 7.119e-01, 2.654e-01, 4.601e-01, 1.189e-01],\n",
              "        [2.057e+01, 1.777e+01, 1.329e+02, 1.326e+03, 8.474e-02, 7.864e-02,\n",
              "         8.690e-02, 7.017e-02, 1.812e-01, 5.667e-02, 5.435e-01, 7.339e-01,\n",
              "         3.398e+00, 7.408e+01, 5.225e-03, 1.308e-02, 1.860e-02, 1.340e-02,\n",
              "         1.389e-02, 3.532e-03, 2.499e+01, 2.341e+01, 1.588e+02, 1.956e+03,\n",
              "         1.238e-01, 1.866e-01, 2.416e-01, 1.860e-01, 2.750e-01, 8.902e-02],\n",
              "        [1.969e+01, 2.125e+01, 1.300e+02, 1.203e+03, 1.096e-01, 1.599e-01,\n",
              "         1.974e-01, 1.279e-01, 2.069e-01, 5.999e-02, 7.456e-01, 7.869e-01,\n",
              "         4.585e+00, 9.403e+01, 6.150e-03, 4.006e-02, 3.832e-02, 2.058e-02,\n",
              "         2.250e-02, 4.571e-03, 2.357e+01, 2.553e+01, 1.525e+02, 1.709e+03,\n",
              "         1.444e-01, 4.245e-01, 4.504e-01, 2.430e-01, 3.613e-01, 8.758e-02],\n",
              "        [1.142e+01, 2.038e+01, 7.758e+01, 3.861e+02, 1.425e-01, 2.839e-01,\n",
              "         2.414e-01, 1.052e-01, 2.597e-01, 9.744e-02, 4.956e-01, 1.156e+00,\n",
              "         3.445e+00, 2.723e+01, 9.110e-03, 7.458e-02, 5.661e-02, 1.867e-02,\n",
              "         5.963e-02, 9.208e-03, 1.491e+01, 2.650e+01, 9.887e+01, 5.677e+02,\n",
              "         2.098e-01, 8.663e-01, 6.869e-01, 2.575e-01, 6.638e-01, 1.730e-01],\n",
              "        [2.029e+01, 1.434e+01, 1.351e+02, 1.297e+03, 1.003e-01, 1.328e-01,\n",
              "         1.980e-01, 1.043e-01, 1.809e-01, 5.883e-02, 7.572e-01, 7.813e-01,\n",
              "         5.438e+00, 9.444e+01, 1.149e-02, 2.461e-02, 5.688e-02, 1.885e-02,\n",
              "         1.756e-02, 5.115e-03, 2.254e+01, 1.667e+01, 1.522e+02, 1.575e+03,\n",
              "         1.374e-01, 2.050e-01, 4.000e-01, 1.625e-01, 2.364e-01, 7.678e-02]]),\n",
              " array([0, 0, 0, 0, 0]))"
            ]
          },
          "metadata": {
            "tags": []
          },
          "execution_count": 121
        }
      ]
    },
    {
      "cell_type": "code",
      "metadata": {
        "colab": {
          "base_uri": "https://localhost:8080/",
          "height": 257
        },
        "id": "c4jpDfPkunR-",
        "outputId": "b94d4565-0d96-45c7-b83f-99557c937c4e"
      },
      "source": [
        "# concatenating the data array and target array to form the pandas dataframe\n",
        "\n",
        "new = np.concatenate((data_array.reshape(len(data_array), data_array.shape[1]), target_array.reshape(len(target_array), 1)), 1)\n",
        "feature_names = np.append(feature_names, 'Target')\n",
        "feature_names = feature_names[:31]\n",
        "\n",
        "\n",
        "framed_data = pd.DataFrame(new, columns=feature_names)\n",
        "framed_data.head()"
      ],
      "execution_count": 122,
      "outputs": [
        {
          "output_type": "execute_result",
          "data": {
            "text/html": [
              "<div>\n",
              "<style scoped>\n",
              "    .dataframe tbody tr th:only-of-type {\n",
              "        vertical-align: middle;\n",
              "    }\n",
              "\n",
              "    .dataframe tbody tr th {\n",
              "        vertical-align: top;\n",
              "    }\n",
              "\n",
              "    .dataframe thead th {\n",
              "        text-align: right;\n",
              "    }\n",
              "</style>\n",
              "<table border=\"1\" class=\"dataframe\">\n",
              "  <thead>\n",
              "    <tr style=\"text-align: right;\">\n",
              "      <th></th>\n",
              "      <th>mean radius</th>\n",
              "      <th>mean texture</th>\n",
              "      <th>mean perimeter</th>\n",
              "      <th>mean area</th>\n",
              "      <th>mean smoothness</th>\n",
              "      <th>mean compactness</th>\n",
              "      <th>mean concavity</th>\n",
              "      <th>mean concave points</th>\n",
              "      <th>mean symmetry</th>\n",
              "      <th>mean fractal dimension</th>\n",
              "      <th>radius error</th>\n",
              "      <th>texture error</th>\n",
              "      <th>perimeter error</th>\n",
              "      <th>area error</th>\n",
              "      <th>smoothness error</th>\n",
              "      <th>compactness error</th>\n",
              "      <th>concavity error</th>\n",
              "      <th>concave points error</th>\n",
              "      <th>symmetry error</th>\n",
              "      <th>fractal dimension error</th>\n",
              "      <th>worst radius</th>\n",
              "      <th>worst texture</th>\n",
              "      <th>worst perimeter</th>\n",
              "      <th>worst area</th>\n",
              "      <th>worst smoothness</th>\n",
              "      <th>worst compactness</th>\n",
              "      <th>worst concavity</th>\n",
              "      <th>worst concave points</th>\n",
              "      <th>worst symmetry</th>\n",
              "      <th>worst fractal dimension</th>\n",
              "      <th>Target</th>\n",
              "    </tr>\n",
              "  </thead>\n",
              "  <tbody>\n",
              "    <tr>\n",
              "      <th>0</th>\n",
              "      <td>17.99</td>\n",
              "      <td>10.38</td>\n",
              "      <td>122.80</td>\n",
              "      <td>1001.0</td>\n",
              "      <td>0.11840</td>\n",
              "      <td>0.27760</td>\n",
              "      <td>0.3001</td>\n",
              "      <td>0.14710</td>\n",
              "      <td>0.2419</td>\n",
              "      <td>0.07871</td>\n",
              "      <td>1.0950</td>\n",
              "      <td>0.9053</td>\n",
              "      <td>8.589</td>\n",
              "      <td>153.40</td>\n",
              "      <td>0.006399</td>\n",
              "      <td>0.04904</td>\n",
              "      <td>0.05373</td>\n",
              "      <td>0.01587</td>\n",
              "      <td>0.03003</td>\n",
              "      <td>0.006193</td>\n",
              "      <td>25.38</td>\n",
              "      <td>17.33</td>\n",
              "      <td>184.60</td>\n",
              "      <td>2019.0</td>\n",
              "      <td>0.1622</td>\n",
              "      <td>0.6656</td>\n",
              "      <td>0.7119</td>\n",
              "      <td>0.2654</td>\n",
              "      <td>0.4601</td>\n",
              "      <td>0.11890</td>\n",
              "      <td>0.0</td>\n",
              "    </tr>\n",
              "    <tr>\n",
              "      <th>1</th>\n",
              "      <td>20.57</td>\n",
              "      <td>17.77</td>\n",
              "      <td>132.90</td>\n",
              "      <td>1326.0</td>\n",
              "      <td>0.08474</td>\n",
              "      <td>0.07864</td>\n",
              "      <td>0.0869</td>\n",
              "      <td>0.07017</td>\n",
              "      <td>0.1812</td>\n",
              "      <td>0.05667</td>\n",
              "      <td>0.5435</td>\n",
              "      <td>0.7339</td>\n",
              "      <td>3.398</td>\n",
              "      <td>74.08</td>\n",
              "      <td>0.005225</td>\n",
              "      <td>0.01308</td>\n",
              "      <td>0.01860</td>\n",
              "      <td>0.01340</td>\n",
              "      <td>0.01389</td>\n",
              "      <td>0.003532</td>\n",
              "      <td>24.99</td>\n",
              "      <td>23.41</td>\n",
              "      <td>158.80</td>\n",
              "      <td>1956.0</td>\n",
              "      <td>0.1238</td>\n",
              "      <td>0.1866</td>\n",
              "      <td>0.2416</td>\n",
              "      <td>0.1860</td>\n",
              "      <td>0.2750</td>\n",
              "      <td>0.08902</td>\n",
              "      <td>0.0</td>\n",
              "    </tr>\n",
              "    <tr>\n",
              "      <th>2</th>\n",
              "      <td>19.69</td>\n",
              "      <td>21.25</td>\n",
              "      <td>130.00</td>\n",
              "      <td>1203.0</td>\n",
              "      <td>0.10960</td>\n",
              "      <td>0.15990</td>\n",
              "      <td>0.1974</td>\n",
              "      <td>0.12790</td>\n",
              "      <td>0.2069</td>\n",
              "      <td>0.05999</td>\n",
              "      <td>0.7456</td>\n",
              "      <td>0.7869</td>\n",
              "      <td>4.585</td>\n",
              "      <td>94.03</td>\n",
              "      <td>0.006150</td>\n",
              "      <td>0.04006</td>\n",
              "      <td>0.03832</td>\n",
              "      <td>0.02058</td>\n",
              "      <td>0.02250</td>\n",
              "      <td>0.004571</td>\n",
              "      <td>23.57</td>\n",
              "      <td>25.53</td>\n",
              "      <td>152.50</td>\n",
              "      <td>1709.0</td>\n",
              "      <td>0.1444</td>\n",
              "      <td>0.4245</td>\n",
              "      <td>0.4504</td>\n",
              "      <td>0.2430</td>\n",
              "      <td>0.3613</td>\n",
              "      <td>0.08758</td>\n",
              "      <td>0.0</td>\n",
              "    </tr>\n",
              "    <tr>\n",
              "      <th>3</th>\n",
              "      <td>11.42</td>\n",
              "      <td>20.38</td>\n",
              "      <td>77.58</td>\n",
              "      <td>386.1</td>\n",
              "      <td>0.14250</td>\n",
              "      <td>0.28390</td>\n",
              "      <td>0.2414</td>\n",
              "      <td>0.10520</td>\n",
              "      <td>0.2597</td>\n",
              "      <td>0.09744</td>\n",
              "      <td>0.4956</td>\n",
              "      <td>1.1560</td>\n",
              "      <td>3.445</td>\n",
              "      <td>27.23</td>\n",
              "      <td>0.009110</td>\n",
              "      <td>0.07458</td>\n",
              "      <td>0.05661</td>\n",
              "      <td>0.01867</td>\n",
              "      <td>0.05963</td>\n",
              "      <td>0.009208</td>\n",
              "      <td>14.91</td>\n",
              "      <td>26.50</td>\n",
              "      <td>98.87</td>\n",
              "      <td>567.7</td>\n",
              "      <td>0.2098</td>\n",
              "      <td>0.8663</td>\n",
              "      <td>0.6869</td>\n",
              "      <td>0.2575</td>\n",
              "      <td>0.6638</td>\n",
              "      <td>0.17300</td>\n",
              "      <td>0.0</td>\n",
              "    </tr>\n",
              "    <tr>\n",
              "      <th>4</th>\n",
              "      <td>20.29</td>\n",
              "      <td>14.34</td>\n",
              "      <td>135.10</td>\n",
              "      <td>1297.0</td>\n",
              "      <td>0.10030</td>\n",
              "      <td>0.13280</td>\n",
              "      <td>0.1980</td>\n",
              "      <td>0.10430</td>\n",
              "      <td>0.1809</td>\n",
              "      <td>0.05883</td>\n",
              "      <td>0.7572</td>\n",
              "      <td>0.7813</td>\n",
              "      <td>5.438</td>\n",
              "      <td>94.44</td>\n",
              "      <td>0.011490</td>\n",
              "      <td>0.02461</td>\n",
              "      <td>0.05688</td>\n",
              "      <td>0.01885</td>\n",
              "      <td>0.01756</td>\n",
              "      <td>0.005115</td>\n",
              "      <td>22.54</td>\n",
              "      <td>16.67</td>\n",
              "      <td>152.20</td>\n",
              "      <td>1575.0</td>\n",
              "      <td>0.1374</td>\n",
              "      <td>0.2050</td>\n",
              "      <td>0.4000</td>\n",
              "      <td>0.1625</td>\n",
              "      <td>0.2364</td>\n",
              "      <td>0.07678</td>\n",
              "      <td>0.0</td>\n",
              "    </tr>\n",
              "  </tbody>\n",
              "</table>\n",
              "</div>"
            ],
            "text/plain": [
              "   mean radius  mean texture  ...  worst fractal dimension  Target\n",
              "0        17.99         10.38  ...                  0.11890     0.0\n",
              "1        20.57         17.77  ...                  0.08902     0.0\n",
              "2        19.69         21.25  ...                  0.08758     0.0\n",
              "3        11.42         20.38  ...                  0.17300     0.0\n",
              "4        20.29         14.34  ...                  0.07678     0.0\n",
              "\n",
              "[5 rows x 31 columns]"
            ]
          },
          "metadata": {
            "tags": []
          },
          "execution_count": 122
        }
      ]
    },
    {
      "cell_type": "code",
      "metadata": {
        "colab": {
          "base_uri": "https://localhost:8080/"
        },
        "id": "z9xIK2-MOwz6",
        "outputId": "c7ee1a5b-cfcc-4f7a-e65d-72f0847cab20"
      },
      "source": [
        "# checking for missing values using info() and isnull()\n",
        "framed_data.info(), framed_data.isnull().sum()"
      ],
      "execution_count": 123,
      "outputs": [
        {
          "output_type": "stream",
          "text": [
            "<class 'pandas.core.frame.DataFrame'>\n",
            "RangeIndex: 569 entries, 0 to 568\n",
            "Data columns (total 31 columns):\n",
            " #   Column                   Non-Null Count  Dtype  \n",
            "---  ------                   --------------  -----  \n",
            " 0   mean radius              569 non-null    float64\n",
            " 1   mean texture             569 non-null    float64\n",
            " 2   mean perimeter           569 non-null    float64\n",
            " 3   mean area                569 non-null    float64\n",
            " 4   mean smoothness          569 non-null    float64\n",
            " 5   mean compactness         569 non-null    float64\n",
            " 6   mean concavity           569 non-null    float64\n",
            " 7   mean concave points      569 non-null    float64\n",
            " 8   mean symmetry            569 non-null    float64\n",
            " 9   mean fractal dimension   569 non-null    float64\n",
            " 10  radius error             569 non-null    float64\n",
            " 11  texture error            569 non-null    float64\n",
            " 12  perimeter error          569 non-null    float64\n",
            " 13  area error               569 non-null    float64\n",
            " 14  smoothness error         569 non-null    float64\n",
            " 15  compactness error        569 non-null    float64\n",
            " 16  concavity error          569 non-null    float64\n",
            " 17  concave points error     569 non-null    float64\n",
            " 18  symmetry error           569 non-null    float64\n",
            " 19  fractal dimension error  569 non-null    float64\n",
            " 20  worst radius             569 non-null    float64\n",
            " 21  worst texture            569 non-null    float64\n",
            " 22  worst perimeter          569 non-null    float64\n",
            " 23  worst area               569 non-null    float64\n",
            " 24  worst smoothness         569 non-null    float64\n",
            " 25  worst compactness        569 non-null    float64\n",
            " 26  worst concavity          569 non-null    float64\n",
            " 27  worst concave points     569 non-null    float64\n",
            " 28  worst symmetry           569 non-null    float64\n",
            " 29  worst fractal dimension  569 non-null    float64\n",
            " 30  Target                   569 non-null    float64\n",
            "dtypes: float64(31)\n",
            "memory usage: 137.9 KB\n"
          ],
          "name": "stdout"
        },
        {
          "output_type": "execute_result",
          "data": {
            "text/plain": [
              "(None, mean radius                0\n",
              " mean texture               0\n",
              " mean perimeter             0\n",
              " mean area                  0\n",
              " mean smoothness            0\n",
              " mean compactness           0\n",
              " mean concavity             0\n",
              " mean concave points        0\n",
              " mean symmetry              0\n",
              " mean fractal dimension     0\n",
              " radius error               0\n",
              " texture error              0\n",
              " perimeter error            0\n",
              " area error                 0\n",
              " smoothness error           0\n",
              " compactness error          0\n",
              " concavity error            0\n",
              " concave points error       0\n",
              " symmetry error             0\n",
              " fractal dimension error    0\n",
              " worst radius               0\n",
              " worst texture              0\n",
              " worst perimeter            0\n",
              " worst area                 0\n",
              " worst smoothness           0\n",
              " worst compactness          0\n",
              " worst concavity            0\n",
              " worst concave points       0\n",
              " worst symmetry             0\n",
              " worst fractal dimension    0\n",
              " Target                     0\n",
              " dtype: int64)"
            ]
          },
          "metadata": {
            "tags": []
          },
          "execution_count": 123
        }
      ]
    },
    {
      "cell_type": "code",
      "metadata": {
        "id": "ci_7xopy4E9P"
      },
      "source": [
        "def one_hot(y):\n",
        "  n = y.max() + 1\n",
        "  m = len(y)\n",
        "  one_hot = np.zeros((m, n))\n",
        "  one_hot[np.arange(m), y] = 1\n",
        "  return one_hot"
      ],
      "execution_count": 124,
      "outputs": []
    },
    {
      "cell_type": "code",
      "metadata": {
        "id": "nvn3048z5L76"
      },
      "source": [
        "from sklearn.model_selection import train_test_split\n",
        "X_train, X_test, y_train, y_test = train_test_split(data_array, target_array, test_size=0.2,random_state=42)"
      ],
      "execution_count": 125,
      "outputs": []
    },
    {
      "cell_type": "code",
      "metadata": {
        "colab": {
          "base_uri": "https://localhost:8080/"
        },
        "id": "0mfvmitQGkr3",
        "outputId": "81b15b6e-1d0b-4c69-915c-f03785be2914"
      },
      "source": [
        "one_hot(y_train[:10]), y_train[:10]"
      ],
      "execution_count": 126,
      "outputs": [
        {
          "output_type": "execute_result",
          "data": {
            "text/plain": [
              "(array([[0., 1.],\n",
              "        [1., 0.],\n",
              "        [0., 1.],\n",
              "        [0., 1.],\n",
              "        [0., 1.],\n",
              "        [1., 0.],\n",
              "        [0., 1.],\n",
              "        [0., 1.],\n",
              "        [0., 1.],\n",
              "        [1., 0.]]), array([1, 0, 1, 1, 1, 0, 1, 1, 1, 0]))"
            ]
          },
          "metadata": {
            "tags": []
          },
          "execution_count": 126
        }
      ]
    },
    {
      "cell_type": "code",
      "metadata": {
        "id": "c8f7vweYJxHM"
      },
      "source": [
        "from sklearn.preprocessing import StandardScaler\n",
        "sc = StandardScaler()\n",
        "X_train = sc.fit_transform(X_train)\n",
        "X_test = sc.transform(X_test)"
      ],
      "execution_count": 127,
      "outputs": []
    },
    {
      "cell_type": "code",
      "metadata": {
        "colab": {
          "base_uri": "https://localhost:8080/"
        },
        "id": "fnoTyDuu5fUq",
        "outputId": "6fd4e2f5-13b4-422c-87a6-08f56576e8ad"
      },
      "source": [
        "X_train.shape, y_train.shape"
      ],
      "execution_count": 128,
      "outputs": [
        {
          "output_type": "execute_result",
          "data": {
            "text/plain": [
              "((455, 30), (455,))"
            ]
          },
          "metadata": {
            "tags": []
          },
          "execution_count": 128
        }
      ]
    },
    {
      "cell_type": "code",
      "metadata": {
        "id": "E6xe6UNo6GHs"
      },
      "source": [
        "y_train_one_hot = one_hot(y_train)\n",
        "y_test_one_hot = one_hot(y_train)"
      ],
      "execution_count": 129,
      "outputs": []
    },
    {
      "cell_type": "code",
      "metadata": {
        "id": "tLncPMo0Ev93"
      },
      "source": [
        "# activation functions\n",
        "\n",
        "def sigmoid(z):\n",
        "  deno = 1 + np.exp(-z)\n",
        "  return 1 / deno\n",
        "\n",
        "def softmax(z):\n",
        "  exps = np.exp(z)\n",
        "  sum_exp = np.sum(exps, axis=1, keepdims=True)\n",
        "  return exps / sum_exp\n",
        "\n",
        "def tanh(z):\n",
        "  pos_exp = np.exp(z)\n",
        "  neg_exp = np.exp(-z)\n",
        "  num = pos_exp - neg_exp\n",
        "  deno = pos_exp + neg_exp\n",
        "  return num / deno"
      ],
      "execution_count": 130,
      "outputs": []
    },
    {
      "cell_type": "markdown",
      "metadata": {
        "id": "Gxg0hTAhJorX"
      },
      "source": [
        "# Logistic Regression Class"
      ]
    },
    {
      "cell_type": "code",
      "metadata": {
        "id": "2iWMRHix6OkJ"
      },
      "source": [
        "class LogisticRegression:\n",
        "  \"\"\"Class for the implementation of Logistic Regression\"\"\"\n",
        "  \n",
        "  def __init__(self, alpha=0.1, n_iterations=1000, activation_function=None):\n",
        "    self.activation_function = activation_function\n",
        "    self.alpha = alpha\n",
        "    self.n_iterations = n_iterations\n",
        "\n",
        "  def gradient_descent(self, X, y):\n",
        "    m = len(X)\n",
        "    features = X.shape[1]\n",
        "    outputs = len(y[1])\n",
        "\n",
        "    theta = np.random.randn(features, outputs)\n",
        "\n",
        "    for iteration in range(self.n_iterations):\n",
        "      y_prob = self.main_predict(X, theta)\n",
        "\n",
        "      gradients = 1/m * X.T.dot(y_prob - y)\n",
        "      theta = theta - self.alpha * gradients\n",
        "    \n",
        "    return theta\n",
        "\n",
        "  def fit(self, X, y):\n",
        "    X_new = np.c_[np.ones((len(X), 1)), X]\n",
        "    self.theta = self.gradient_descent(X_new, y)\n",
        "\n",
        "\n",
        "  def main_predict(self, X, theta):\n",
        "    if (self.activation_function == 'sigmoid'):\n",
        "      y_prob = sigmoid(X.dot(theta))\n",
        "\n",
        "    elif (self.activation_function == 'softmax'):\n",
        "      y_prob = softmax(X.dot(theta))\n",
        "\n",
        "    elif (self.activation_function == 'tanh'):\n",
        "      y_prob = tanh(X.dot(theta))\n",
        "\n",
        "    return y_prob\n",
        "\n",
        "  def predict(self, X):\n",
        "    X_new = np.c_[np.ones((len(X), 1)), X]\n",
        "    self.prob = self.main_predict(X_new, self.theta)\n",
        "\n",
        "    y_pred = np.argmax(self.prob, axis=1)\n",
        "    return y_pred\n",
        "\n",
        "  def predict_proba(self, X):\n",
        "    X_new = np.c_[np.ones((len(X), 1)), X]\n",
        "    self.prob = self.main_predict(X_new, self.theta)\n",
        "\n",
        "    # zero for negative percentages\n",
        "    # y_proba = np.array(list(map(lambda x: [max(x[0],0), max(x[1], 0)], self.prob)))\n",
        "    y_proba = self.prob * 100\n",
        "    return y_proba\n"
      ],
      "execution_count": 131,
      "outputs": []
    },
    {
      "cell_type": "markdown",
      "metadata": {
        "id": "IS6socJeJNuw"
      },
      "source": [
        "# Sigmoid"
      ]
    },
    {
      "cell_type": "code",
      "metadata": {
        "id": "pGZ__UOc_RcY"
      },
      "source": [
        "# sigmoid\n",
        "log_reg = LogisticRegression(alpha=0.01, n_iterations=1000,activation_function='sigmoid')\n",
        "log_reg.fit(X_train, y_train_one_hot)"
      ],
      "execution_count": 132,
      "outputs": []
    },
    {
      "cell_type": "code",
      "metadata": {
        "id": "n1_1Xts4CkUW"
      },
      "source": [
        "y_pred = log_reg.predict(X_test)"
      ],
      "execution_count": 133,
      "outputs": []
    },
    {
      "cell_type": "code",
      "metadata": {
        "colab": {
          "base_uri": "https://localhost:8080/"
        },
        "id": "YU3S_HMkC7uG",
        "outputId": "ad18f4bf-4d5e-4acb-c291-f6ad4db0c499"
      },
      "source": [
        "y_pred.shape, y_test.shape"
      ],
      "execution_count": 134,
      "outputs": [
        {
          "output_type": "execute_result",
          "data": {
            "text/plain": [
              "((114,), (114,))"
            ]
          },
          "metadata": {
            "tags": []
          },
          "execution_count": 134
        }
      ]
    },
    {
      "cell_type": "code",
      "metadata": {
        "colab": {
          "base_uri": "https://localhost:8080/"
        },
        "id": "DFCYhWMhMGV7",
        "outputId": "f9e76270-530a-4b84-dc3a-1b0fcdb942d1"
      },
      "source": [
        "np.concatenate((y_pred.reshape(len(y_pred),1), y_test.reshape(len(y_test),1)) ,1)"
      ],
      "execution_count": 135,
      "outputs": [
        {
          "output_type": "execute_result",
          "data": {
            "text/plain": [
              "array([[1, 1],\n",
              "       [0, 0],\n",
              "       [0, 0],\n",
              "       [1, 1],\n",
              "       [1, 1],\n",
              "       [0, 0],\n",
              "       [0, 0],\n",
              "       [0, 0],\n",
              "       [0, 1],\n",
              "       [1, 1],\n",
              "       [1, 1],\n",
              "       [0, 0],\n",
              "       [1, 1],\n",
              "       [0, 0],\n",
              "       [1, 1],\n",
              "       [0, 0],\n",
              "       [1, 1],\n",
              "       [1, 1],\n",
              "       [1, 1],\n",
              "       [0, 0],\n",
              "       [1, 0],\n",
              "       [1, 1],\n",
              "       [0, 0],\n",
              "       [1, 1],\n",
              "       [1, 1],\n",
              "       [1, 1],\n",
              "       [1, 1],\n",
              "       [1, 1],\n",
              "       [1, 1],\n",
              "       [0, 0],\n",
              "       [1, 1],\n",
              "       [1, 1],\n",
              "       [1, 1],\n",
              "       [1, 1],\n",
              "       [1, 1],\n",
              "       [1, 1],\n",
              "       [0, 0],\n",
              "       [1, 1],\n",
              "       [0, 0],\n",
              "       [1, 1],\n",
              "       [1, 1],\n",
              "       [0, 0],\n",
              "       [1, 1],\n",
              "       [1, 1],\n",
              "       [1, 1],\n",
              "       [1, 1],\n",
              "       [1, 1],\n",
              "       [1, 1],\n",
              "       [1, 1],\n",
              "       [1, 1],\n",
              "       [0, 0],\n",
              "       [0, 0],\n",
              "       [0, 1],\n",
              "       [1, 1],\n",
              "       [1, 1],\n",
              "       [1, 1],\n",
              "       [1, 1],\n",
              "       [0, 0],\n",
              "       [0, 0],\n",
              "       [1, 1],\n",
              "       [1, 1],\n",
              "       [0, 0],\n",
              "       [0, 0],\n",
              "       [1, 1],\n",
              "       [1, 1],\n",
              "       [1, 1],\n",
              "       [0, 0],\n",
              "       [0, 0],\n",
              "       [1, 1],\n",
              "       [1, 1],\n",
              "       [0, 0],\n",
              "       [0, 0],\n",
              "       [1, 1],\n",
              "       [0, 0],\n",
              "       [1, 1],\n",
              "       [1, 1],\n",
              "       [1, 1],\n",
              "       [1, 0],\n",
              "       [1, 1],\n",
              "       [1, 1],\n",
              "       [0, 0],\n",
              "       [1, 1],\n",
              "       [0, 0],\n",
              "       [0, 0],\n",
              "       [0, 0],\n",
              "       [0, 0],\n",
              "       [0, 0],\n",
              "       [0, 0],\n",
              "       [0, 1],\n",
              "       [1, 1],\n",
              "       [1, 1],\n",
              "       [1, 1],\n",
              "       [1, 1],\n",
              "       [1, 1],\n",
              "       [1, 1],\n",
              "       [1, 1],\n",
              "       [0, 0],\n",
              "       [0, 0],\n",
              "       [1, 1],\n",
              "       [0, 0],\n",
              "       [0, 0],\n",
              "       [1, 1],\n",
              "       [0, 0],\n",
              "       [0, 0],\n",
              "       [1, 1],\n",
              "       [1, 1],\n",
              "       [1, 1],\n",
              "       [0, 0],\n",
              "       [1, 1],\n",
              "       [1, 1],\n",
              "       [0, 0],\n",
              "       [1, 1],\n",
              "       [0, 1],\n",
              "       [0, 0]])"
            ]
          },
          "metadata": {
            "tags": []
          },
          "execution_count": 135
        }
      ]
    },
    {
      "cell_type": "code",
      "metadata": {
        "colab": {
          "base_uri": "https://localhost:8080/"
        },
        "id": "sPcQzCF1C3IG",
        "outputId": "a7d3dbc7-8782-45da-9eb6-268e811b4524"
      },
      "source": [
        "from sklearn.metrics import accuracy_score\n",
        "accuracy_score(y_test, y_pred)"
      ],
      "execution_count": 136,
      "outputs": [
        {
          "output_type": "execute_result",
          "data": {
            "text/plain": [
              "0.9473684210526315"
            ]
          },
          "metadata": {
            "tags": []
          },
          "execution_count": 136
        }
      ]
    },
    {
      "cell_type": "markdown",
      "metadata": {
        "id": "HUClx_edJRNB"
      },
      "source": [
        "# Softmax"
      ]
    },
    {
      "cell_type": "code",
      "metadata": {
        "id": "9lIPPa2TMsyb"
      },
      "source": [
        "log_reg1 = LogisticRegression(alpha=0.1, n_iterations=1000,activation_function='softmax')\n",
        "log_reg1.fit(X_train, y_train_one_hot)"
      ],
      "execution_count": 137,
      "outputs": []
    },
    {
      "cell_type": "code",
      "metadata": {
        "id": "JiBR2VcMMvAz"
      },
      "source": [
        "y_pred2 = log_reg1.predict(X_test)"
      ],
      "execution_count": 138,
      "outputs": []
    },
    {
      "cell_type": "code",
      "metadata": {
        "colab": {
          "base_uri": "https://localhost:8080/"
        },
        "id": "A6BbXBTqNMCy",
        "outputId": "596cd034-c8a1-4b28-e058-5137132c47d2"
      },
      "source": [
        "from sklearn.metrics import accuracy_score\n",
        "accuracy_score(y_test, y_pred2)"
      ],
      "execution_count": 139,
      "outputs": [
        {
          "output_type": "execute_result",
          "data": {
            "text/plain": [
              "0.9649122807017544"
            ]
          },
          "metadata": {
            "tags": []
          },
          "execution_count": 139
        }
      ]
    },
    {
      "cell_type": "markdown",
      "metadata": {
        "id": "ztrBoqaZJUv_"
      },
      "source": [
        "# Tanh"
      ]
    },
    {
      "cell_type": "code",
      "metadata": {
        "id": "dMz2IafxZLx2"
      },
      "source": [
        "log_reg1 = LogisticRegression(alpha=0.01, n_iterations=2000,activation_function='tanh')\n",
        "log_reg1.fit(X_train, y_train_one_hot)"
      ],
      "execution_count": 140,
      "outputs": []
    },
    {
      "cell_type": "code",
      "metadata": {
        "id": "aV5Zz1wXZOyW"
      },
      "source": [
        "y_pred3 = log_reg1.predict(X_test)"
      ],
      "execution_count": 141,
      "outputs": []
    },
    {
      "cell_type": "code",
      "metadata": {
        "colab": {
          "base_uri": "https://localhost:8080/"
        },
        "id": "vRVqCM49ZUcH",
        "outputId": "9f3cc531-abc8-4e2a-a5d7-ad4e298e2f95"
      },
      "source": [
        "from sklearn.metrics import accuracy_score\n",
        "accuracy_score(y_test, y_pred3)"
      ],
      "execution_count": 142,
      "outputs": [
        {
          "output_type": "execute_result",
          "data": {
            "text/plain": [
              "0.9298245614035088"
            ]
          },
          "metadata": {
            "tags": []
          },
          "execution_count": 142
        }
      ]
    },
    {
      "cell_type": "markdown",
      "metadata": {
        "id": "LiNewbcUJX8w"
      },
      "source": [
        "## Percentage"
      ]
    },
    {
      "cell_type": "code",
      "metadata": {
        "id": "CyRSagHFF0gk"
      },
      "source": [
        "log_reg2 = LogisticRegression(alpha=0.01, n_iterations=2000,activation_function='tanh')\n",
        "log_reg2.fit(X_train, y_train_one_hot)"
      ],
      "execution_count": 143,
      "outputs": []
    },
    {
      "cell_type": "code",
      "metadata": {
        "colab": {
          "base_uri": "https://localhost:8080/"
        },
        "id": "396OFtgiGEwu",
        "outputId": "1df9cb6a-5cdc-4e31-fc55-fb35ff65aa56"
      },
      "source": [
        "# percentage of probability\n",
        "\n",
        "print(log_reg2.predict_proba(X_test))"
      ],
      "execution_count": 144,
      "outputs": [
        {
          "output_type": "stream",
          "text": [
            "[[ 57.02898945  89.80474313]\n",
            " [ 99.99711519   9.65634085]\n",
            " [ 97.12985487  43.26984395]\n",
            " [-16.79496443  99.51922148]\n",
            " [-22.86332349  96.47758075]\n",
            " [ 99.99889579 -88.3181769 ]\n",
            " [ 99.99997098 -21.93373291]\n",
            " [ 97.81205497  16.48370873]\n",
            " [ -0.75741422  22.55192955]\n",
            " [ -4.64120788  95.16659144]\n",
            " [ -1.30252507  87.03484018]\n",
            " [ 98.75246144  45.59998551]\n",
            " [ -3.8169833   92.43746447]\n",
            " [ 97.80098006  80.65053661]\n",
            " [-22.34608671  83.46994081]\n",
            " [ 99.75177795  95.46806231]\n",
            " [ 25.13762516  94.96946299]\n",
            " [ 15.65032577  99.64905076]\n",
            " [ 33.25222637  99.90589506]\n",
            " [ 99.99665957   2.72080395]\n",
            " [ 73.8117178   71.84015576]\n",
            " [-13.60559022  89.55698979]\n",
            " [ 99.99972019 -77.33841744]\n",
            " [-22.83077347  97.97336421]\n",
            " [ -5.15552918  97.64363574]\n",
            " [-37.38173944  98.62284594]\n",
            " [-15.0541729   94.89334003]\n",
            " [ 48.20887653  96.21790317]\n",
            " [ -2.6461807   93.37516033]\n",
            " [ 99.99096436 -74.72294969]\n",
            " [-17.71478339  97.32182268]\n",
            " [-34.81386703  93.91293653]\n",
            " [ 37.65374615  99.34585914]\n",
            " [ 58.4440057   94.77142832]\n",
            " [ -5.89213263  98.97172298]\n",
            " [ 18.55624431  97.9690682 ]\n",
            " [ 90.84374647  58.94884644]\n",
            " [  7.21090917  88.33106596]\n",
            " [ 99.93999263  59.33860073]\n",
            " [ 58.36898795  89.32429086]\n",
            " [ -5.56656795  98.88940498]\n",
            " [ 99.52468171  31.38864745]\n",
            " [-20.65101325  92.15876294]\n",
            " [  6.17140789  94.13594037]\n",
            " [ 52.95048826  82.05387047]\n",
            " [ 72.14635959  91.94159632]\n",
            " [ 15.56049937  98.48695426]\n",
            " [ 43.289042    99.91086018]\n",
            " [ 17.10540789  85.75515971]\n",
            " [ -1.57527221  88.82456284]\n",
            " [ 99.89596776  54.65609157]\n",
            " [ 99.99512287 -35.32617091]\n",
            " [ 61.88287327  66.49846888]\n",
            " [ 67.77700267  69.57935986]\n",
            " [-50.2437572   99.6605405 ]\n",
            " [ 53.50296696  85.44505337]\n",
            " [ 26.51880459  96.7640298 ]\n",
            " [ 99.99999769 -74.98752657]\n",
            " [ 96.54357099  89.78155022]\n",
            " [ -6.72387665  97.43431297]\n",
            " [-22.34058363  92.76607362]\n",
            " [ 99.99866341 -80.28980728]\n",
            " [ 99.99999478 -87.37337971]\n",
            " [ 46.42526803  93.64980046]\n",
            " [-45.69383301  93.59402481]\n",
            " [ 72.6944363   85.66009145]\n",
            " [ 99.91692345  32.51382342]\n",
            " [ 99.99022008  88.01281353]\n",
            " [-28.64511434  95.32585807]\n",
            " [ 52.11114751  97.03277917]\n",
            " [ 82.313372    25.33267776]\n",
            " [ 99.49928657 -74.69245698]\n",
            " [-14.03970569  84.54720711]\n",
            " [ 92.38207813  20.8717421 ]\n",
            " [ 53.97153919  99.96899528]\n",
            " [ 32.88753526  85.23683665]\n",
            " [  3.60084228  86.99281068]\n",
            " [ 81.68201609  56.79508417]\n",
            " [-47.05054517  97.39953627]\n",
            " [-18.48270234  79.58456628]\n",
            " [ 94.22971622  41.26228587]\n",
            " [-55.82555466  96.24699807]\n",
            " [ 79.19082809  87.00781719]\n",
            " [ 99.99994625 -24.00948282]\n",
            " [ 98.64088984  34.56075989]\n",
            " [ 96.11588958  17.98762758]\n",
            " [ 90.54983414 -90.23217932]\n",
            " [ 99.97471932  44.70838184]\n",
            " [-34.83357854  99.35048196]\n",
            " [-11.04406987  77.96813801]\n",
            " [-28.63052782  90.71145829]\n",
            " [ 76.37932198  83.30586013]\n",
            " [ 47.17134339  84.65247442]\n",
            " [ 62.51481569  99.56174386]\n",
            " [ -4.09342781  99.50349591]\n",
            " [ 11.29767728  99.10753858]\n",
            " [ 99.99667636 -52.44394933]\n",
            " [ 99.18148889 -88.51487041]\n",
            " [ -9.31845838  97.47375876]\n",
            " [ 99.7167667  -15.65779318]\n",
            " [ 97.23020892 -64.67351676]\n",
            " [-17.07238565  99.60328181]\n",
            " [ 99.99918931 -59.2755156 ]\n",
            " [ 99.84199699  -5.66795248]\n",
            " [ 43.7634561   96.5851952 ]\n",
            " [-33.02388909  61.72166169]\n",
            " [ 33.62598561  95.24327534]\n",
            " [ 99.99999998 -37.56938509]\n",
            " [ 53.79775657  79.78668109]\n",
            " [ -9.29469491  68.11165957]\n",
            " [ 99.76640644  -4.04905122]\n",
            " [-16.5633014   95.8678267 ]\n",
            " [ 10.03893245  58.46208169]\n",
            " [100.          -7.5071766 ]]\n"
          ],
          "name": "stdout"
        }
      ]
    }
  ]
}